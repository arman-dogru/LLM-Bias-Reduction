{
 "cells": [
  {
   "cell_type": "markdown",
   "id": "7493fbb8",
   "metadata": {
    "_cell_guid": "838a2b24-edfe-412a-87cf-e042836ef56f",
    "_uuid": "101ee404-1383-4396-95a2-508448a6732d",
    "collapsed": false,
    "jupyter": {
     "outputs_hidden": false
    },
    "papermill": {
     "duration": 0.00537,
     "end_time": "2024-12-22T02:45:28.412953",
     "exception": false,
     "start_time": "2024-12-22T02:45:28.407583",
     "status": "completed"
    },
    "tags": []
   },
   "source": [
    "## **1.0. Data Pre-Processing**"
   ]
  },
  {
   "cell_type": "markdown",
   "id": "6f0dd4fb",
   "metadata": {
    "_cell_guid": "718daaa5-456d-4df1-81dd-472231305df4",
    "_uuid": "67b4fdb2-ae78-4cf4-a937-d3544c7d8e62",
    "collapsed": false,
    "jupyter": {
     "outputs_hidden": false
    },
    "papermill": {
     "duration": 0.004222,
     "end_time": "2024-12-22T02:45:28.421839",
     "exception": false,
     "start_time": "2024-12-22T02:45:28.417617",
     "status": "completed"
    },
    "tags": []
   },
   "source": [
    "### 1.1. Imports"
   ]
  },
  {
   "cell_type": "code",
   "execution_count": 1,
   "id": "4c10ed47",
   "metadata": {
    "_cell_guid": "90058ec6-fafe-46e1-bccf-9d6af5c05fc6",
    "_uuid": "6aa16da8-0941-4976-87c5-6db72bb9053c",
    "collapsed": false,
    "execution": {
     "iopub.execute_input": "2024-12-22T02:45:28.432085Z",
     "iopub.status.busy": "2024-12-22T02:45:28.431754Z",
     "iopub.status.idle": "2024-12-22T02:45:29.126961Z",
     "shell.execute_reply": "2024-12-22T02:45:29.126305Z"
    },
    "jupyter": {
     "outputs_hidden": false
    },
    "papermill": {
     "duration": 0.702858,
     "end_time": "2024-12-22T02:45:29.129091",
     "exception": false,
     "start_time": "2024-12-22T02:45:28.426233",
     "status": "completed"
    },
    "tags": []
   },
   "outputs": [],
   "source": [
    "import pandas as pd\n",
    "import random,time,csv\n",
    "import numpy as np\n",
    "import math,copy,os"
   ]
  },
  {
   "cell_type": "markdown",
   "id": "63caabb6",
   "metadata": {
    "_cell_guid": "1915126a-8448-42c3-97bb-39de55486535",
    "_uuid": "968955ad-34af-41b4-a1e0-58d8c5723d17",
    "collapsed": false,
    "jupyter": {
     "outputs_hidden": false
    },
    "papermill": {
     "duration": 0.004295,
     "end_time": "2024-12-22T02:45:29.138231",
     "exception": false,
     "start_time": "2024-12-22T02:45:29.133936",
     "status": "completed"
    },
    "tags": []
   },
   "source": [
    "### 1.2. Adult Census Income Dataset"
   ]
  },
  {
   "cell_type": "code",
   "execution_count": 2,
   "id": "88414f66",
   "metadata": {
    "_cell_guid": "9d299556-cc00-4bde-a4a5-a0a4b1b9a1ff",
    "_uuid": "39afa895-487f-4e7e-b41e-066a24e61223",
    "collapsed": false,
    "execution": {
     "iopub.execute_input": "2024-12-22T02:45:29.148337Z",
     "iopub.status.busy": "2024-12-22T02:45:29.147964Z",
     "iopub.status.idle": "2024-12-22T02:45:29.366179Z",
     "shell.execute_reply": "2024-12-22T02:45:29.365508Z"
    },
    "jupyter": {
     "outputs_hidden": false
    },
    "papermill": {
     "duration": 0.225429,
     "end_time": "2024-12-22T02:45:29.368156",
     "exception": false,
     "start_time": "2024-12-22T02:45:29.142727",
     "status": "completed"
    },
    "tags": []
   },
   "outputs": [],
   "source": [
    "adult_df = pd.read_csv('/kaggle/input/nlp-project-data-raw/data/adult.data.csv')\n",
    "adult_df = adult_df.dropna()\n",
    "\n",
    "\n",
    "adult_df['sex'] = np.where(adult_df['sex'] == ' Male', 1, 0)\n",
    "adult_df['race'] = np.where(adult_df['race'] != ' White', 0, 1)\n",
    "adult_df['Probability'] = np.where(adult_df['Probability'] == ' <=50K', 0, 1)"
   ]
  },
  {
   "cell_type": "markdown",
   "id": "abf43723",
   "metadata": {
    "_cell_guid": "23d3c671-841e-4576-bd31-9498f1bb7f0c",
    "_uuid": "7b5a2f01-8989-4d38-9ec4-a52ae9f9ecb9",
    "collapsed": false,
    "jupyter": {
     "outputs_hidden": false
    },
    "papermill": {
     "duration": 0.004395,
     "end_time": "2024-12-22T02:45:29.377304",
     "exception": false,
     "start_time": "2024-12-22T02:45:29.372909",
     "status": "completed"
    },
    "tags": []
   },
   "source": [
    "### 1.4. German Credit Dataset"
   ]
  },
  {
   "cell_type": "code",
   "execution_count": 3,
   "id": "973a417a",
   "metadata": {
    "_cell_guid": "e95a7059-f5ea-4d5e-874d-20f5a05d0525",
    "_uuid": "0e335e1d-910d-4334-be29-c12f6e0e6fda",
    "collapsed": false,
    "execution": {
     "iopub.execute_input": "2024-12-22T02:45:29.387655Z",
     "iopub.status.busy": "2024-12-22T02:45:29.387076Z",
     "iopub.status.idle": "2024-12-22T02:45:29.405902Z",
     "shell.execute_reply": "2024-12-22T02:45:29.405232Z"
    },
    "jupyter": {
     "outputs_hidden": false
    },
    "papermill": {
     "duration": 0.026117,
     "end_time": "2024-12-22T02:45:29.407775",
     "exception": false,
     "start_time": "2024-12-22T02:45:29.381658",
     "status": "completed"
    },
    "tags": []
   },
   "outputs": [],
   "source": [
    "german_df = pd.read_csv('/kaggle/input/nlp-project-data-raw/data/GermanData.csv')\n",
    "\n",
    "german_df['Probability'] = np.where(german_df['Probability'] == 2, 0,1)\n",
    "german_df['sex'] = np.where(german_df['sex'] == 'A91', 1, german_df['sex'])\n",
    "german_df['sex'] = np.where(german_df['sex'] == 'A92', 0, german_df['sex'])\n",
    "german_df['sex'] = np.where(german_df['sex'] == 'A93', 1, german_df['sex'])\n",
    "german_df['sex'] = np.where(german_df['sex'] == 'A94', 1, german_df['sex'])\n",
    "german_df['sex'] = np.where(german_df['sex'] == 'A95', 0, german_df['sex'])"
   ]
  },
  {
   "cell_type": "markdown",
   "id": "00efa022",
   "metadata": {
    "_cell_guid": "36b79de8-95ca-44b1-9deb-b6cb5708e4ec",
    "_uuid": "c77da0c8-a93a-48e5-84d7-eb31300f8227",
    "collapsed": false,
    "jupyter": {
     "outputs_hidden": false
    },
    "papermill": {
     "duration": 0.00429,
     "end_time": "2024-12-22T02:45:29.416840",
     "exception": false,
     "start_time": "2024-12-22T02:45:29.412550",
     "status": "completed"
    },
    "tags": []
   },
   "source": [
    "### 1.5. Default Credit Dataset"
   ]
  },
  {
   "cell_type": "code",
   "execution_count": 4,
   "id": "f5d6a18e",
   "metadata": {
    "_cell_guid": "96ad2d60-474e-4580-83b8-192c70e3d936",
    "_uuid": "5712861d-a8b8-4f44-9c01-1fe872743ebc",
    "collapsed": false,
    "execution": {
     "iopub.execute_input": "2024-12-22T02:45:29.426677Z",
     "iopub.status.busy": "2024-12-22T02:45:29.426407Z",
     "iopub.status.idle": "2024-12-22T02:45:29.608526Z",
     "shell.execute_reply": "2024-12-22T02:45:29.607773Z"
    },
    "jupyter": {
     "outputs_hidden": false
    },
    "papermill": {
     "duration": 0.189222,
     "end_time": "2024-12-22T02:45:29.610437",
     "exception": false,
     "start_time": "2024-12-22T02:45:29.421215",
     "status": "completed"
    },
    "tags": []
   },
   "outputs": [],
   "source": [
    "# Load the dataset\n",
    "default_df = pd.read_csv('/kaggle/input/nlp-project-data-raw/data/default_of_credit_card_clients.csv', header=0)\n",
    "\n",
    "# Assign the first row as column names\n",
    "default_df.columns = default_df.iloc[0]\n",
    "default_df = default_df[1:]\n",
    "\n",
    "# Adjust the 'sex' column values\n",
    "default_df['sex'] = np.where(default_df['SEX'] == '2', 0, 1)"
   ]
  },
  {
   "cell_type": "markdown",
   "id": "c128b2cc",
   "metadata": {
    "_cell_guid": "a01f69fd-a787-457a-8b0f-567368701018",
    "_uuid": "e71d2ab4-6780-46a7-a585-7085a518eb85",
    "collapsed": false,
    "jupyter": {
     "outputs_hidden": false
    },
    "papermill": {
     "duration": 0.004153,
     "end_time": "2024-12-22T02:45:29.619252",
     "exception": false,
     "start_time": "2024-12-22T02:45:29.615099",
     "status": "completed"
    },
    "tags": []
   },
   "source": [
    "### 1.6."
   ]
  },
  {
   "cell_type": "markdown",
   "id": "9b0d4a6c",
   "metadata": {
    "_cell_guid": "36dd7abf-e262-41e5-a53a-2ed9d9d82c5a",
    "_uuid": "06d3d836-5973-47ee-9ae6-77975cfe946e",
    "collapsed": false,
    "jupyter": {
     "outputs_hidden": false
    },
    "papermill": {
     "duration": 0.004262,
     "end_time": "2024-12-22T02:45:29.627852",
     "exception": false,
     "start_time": "2024-12-22T02:45:29.623590",
     "status": "completed"
    },
    "tags": []
   },
   "source": [
    "### 1.7. Bank Marketing Dataset"
   ]
  },
  {
   "cell_type": "code",
   "execution_count": 5,
   "id": "f5dbb3ff",
   "metadata": {
    "_cell_guid": "b73fa599-549e-40f0-aba0-63f33ebcf583",
    "_uuid": "8f36cd08-26ce-408a-a6e6-26fa747a536c",
    "collapsed": false,
    "execution": {
     "iopub.execute_input": "2024-12-22T02:45:29.637982Z",
     "iopub.status.busy": "2024-12-22T02:45:29.637674Z",
     "iopub.status.idle": "2024-12-22T02:45:30.712332Z",
     "shell.execute_reply": "2024-12-22T02:45:30.711364Z"
    },
    "jupyter": {
     "outputs_hidden": false
    },
    "papermill": {
     "duration": 1.082099,
     "end_time": "2024-12-22T02:45:30.714306",
     "exception": false,
     "start_time": "2024-12-22T02:45:29.632207",
     "status": "completed"
    },
    "tags": []
   },
   "outputs": [],
   "source": [
    "## Load dataset\n",
    "from sklearn import preprocessing\n",
    "bank_df = pd.read_csv('/kaggle/input/nlp-project-data-raw/data/bank.csv')\n",
    "\n",
    "## Drop categorical features\n",
    "\n",
    "bank_df['Probability'] = np.where(bank_df['Probability'] == 'yes', 1, 0)\n",
    "\n",
    "mean = bank_df.loc[:,\"age\"].mean()\n",
    "bank_df['age'] = np.where(bank_df['age'] >= 30, 1, 0)"
   ]
  },
  {
   "cell_type": "markdown",
   "id": "79434d7d",
   "metadata": {
    "_cell_guid": "8771c424-a60d-4a9c-93d7-1c5f9bdd9359",
    "_uuid": "02bbb40d-a7d5-43e7-8eac-0fc8dbe645b4",
    "collapsed": false,
    "jupyter": {
     "outputs_hidden": false
    },
    "papermill": {
     "duration": 0.004305,
     "end_time": "2024-12-22T02:45:30.723188",
     "exception": false,
     "start_time": "2024-12-22T02:45:30.718883",
     "status": "completed"
    },
    "tags": []
   },
   "source": [
    "### 1.8. Home Credit Dataset"
   ]
  },
  {
   "cell_type": "markdown",
   "id": "c1638dca",
   "metadata": {
    "_cell_guid": "b016e3cd-609a-47e9-b1d1-dd0432458667",
    "_uuid": "de1dfb6e-7733-4203-b145-75dd9fc6ff85",
    "collapsed": false,
    "jupyter": {
     "outputs_hidden": false
    },
    "papermill": {
     "duration": 0.004065,
     "end_time": "2024-12-22T02:45:30.731452",
     "exception": false,
     "start_time": "2024-12-22T02:45:30.727387",
     "status": "completed"
    },
    "tags": []
   },
   "source": [
    "### 1.9. Student Performance Dataset"
   ]
  },
  {
   "cell_type": "markdown",
   "id": "dfb0839d",
   "metadata": {
    "_cell_guid": "733c103c-a151-4da9-80e9-c040b79b9ac2",
    "_uuid": "1301fe64-5744-4abc-a00d-ec5848654053",
    "collapsed": false,
    "jupyter": {
     "outputs_hidden": false
    },
    "papermill": {
     "duration": 0.004262,
     "end_time": "2024-12-22T02:45:30.739946",
     "exception": false,
     "start_time": "2024-12-22T02:45:30.735684",
     "status": "completed"
    },
    "tags": []
   },
   "source": [
    "### 1.10. Medical Expediture Dataset 1"
   ]
  },
  {
   "cell_type": "code",
   "execution_count": 6,
   "id": "e1eb2224",
   "metadata": {
    "_cell_guid": "5656e60e-7189-49ae-ba08-b60941a2c0b1",
    "_uuid": "15a33ba4-ae97-4dc3-8a97-5d6b18d44388",
    "collapsed": false,
    "execution": {
     "iopub.execute_input": "2024-12-22T02:45:30.749836Z",
     "iopub.status.busy": "2024-12-22T02:45:30.749516Z",
     "iopub.status.idle": "2024-12-22T02:45:40.147037Z",
     "shell.execute_reply": "2024-12-22T02:45:40.146323Z"
    },
    "jupyter": {
     "outputs_hidden": false
    },
    "papermill": {
     "duration": 9.404953,
     "end_time": "2024-12-22T02:45:40.149098",
     "exception": false,
     "start_time": "2024-12-22T02:45:30.744145",
     "status": "completed"
    },
    "tags": []
   },
   "outputs": [],
   "source": [
    "MEPS15 = pd.read_csv('/kaggle/input/medical-expediture-meps-1-2/h181.csv')\n",
    "\n",
    "# ## Drop NULL values\n",
    "MEPS15 = MEPS15.dropna()\n",
    "\n",
    "\n",
    "MEPS15 = MEPS15.rename(columns = {'FTSTU53X' : 'FTSTU', 'ACTDTY53' : 'ACTDTY', 'HONRDC53' : 'HONRDC', 'RTHLTH53' : 'RTHLTH',\n",
    "                              'MNHLTH53' : 'MNHLTH', 'CHBRON53' : 'CHBRON', 'JTPAIN53' : 'JTPAIN', 'PREGNT53' : 'PREGNT',\n",
    "                              'WLKLIM53' : 'WLKLIM', 'ACTLIM53' : 'ACTLIM', 'SOCLIM53' : 'SOCLIM', 'COGLIM53' : 'COGLIM',\n",
    "                              'EMPST53' : 'EMPST', 'REGION53' : 'REGION', 'MARRY53X' : 'MARRY', 'AGE53X' : 'AGE',\n",
    "                              'POVCAT15' : 'POVCAT', 'INSCOV15' : 'INSCOV'})\n",
    "\n",
    "\n",
    "MEPS15 = MEPS15[MEPS15['PANEL'] == 20]\n",
    "MEPS15 = MEPS15[MEPS15['REGION'] >= 0] # remove values -1\n",
    "MEPS15 = MEPS15[MEPS15['AGE'] >= 0] # remove values -1\n",
    "MEPS15 = MEPS15[MEPS15['MARRY'] >= 0] # remove values -1, -7, -8, -9\n",
    "MEPS15 = MEPS15[MEPS15['ASTHDX'] >= 0] # remove values -1, -7, -8, -9\n",
    "MEPS15 = MEPS15[(MEPS15[['FTSTU','ACTDTY','HONRDC','RTHLTH','MNHLTH','HIBPDX','CHDDX','ANGIDX','EDUCYR','HIDEG',\n",
    "                             'MIDX','OHRTDX','STRKDX','EMPHDX','CHBRON','CHOLDX','CANCERDX','DIABDX',\n",
    "                             'JTPAIN','ARTHDX','ARTHTYPE','ASTHDX','ADHDADDX','PREGNT','WLKLIM',\n",
    "                             'ACTLIM','SOCLIM','COGLIM','DFHEAR42','DFSEE42','ADSMOK42',\n",
    "                             'PHQ242','EMPST','POVCAT','INSCOV']] >= -1).all(1)]\n",
    "\n",
    "# ## Change symbolics to numerics\n",
    "MEPS15['RACEV2X'] = np.where((MEPS15['HISPANX'] == 2 ) & (MEPS15['RACEV2X'] == 1), 1, MEPS15['RACEV2X'])\n",
    "MEPS15['RACEV2X'] = np.where(MEPS15['RACEV2X'] != 1 , 0, MEPS15['RACEV2X'])\n",
    "MEPS15 = MEPS15.rename(columns={\"RACEV2X\" : \"RACE\"})\n",
    "# MEPS15['UTILIZATION'] = np.where(MEPS15['UTILIZATION'] >= 10, 1, 0)\n",
    "\n",
    "\n",
    "\n",
    "def utilization(row):\n",
    "        return row['OBTOTV15'] + row['OPTOTV15'] + row['ERTOT15'] + row['IPNGTD15'] + row['HHTOTD15']\n",
    "\n",
    "MEPS15['TOTEXP15'] = MEPS15.apply(lambda row: utilization(row), axis=1)\n",
    "lessE = MEPS15['TOTEXP15'] < 10.0\n",
    "MEPS15.loc[lessE,'TOTEXP15'] = 0.0\n",
    "moreE = MEPS15['TOTEXP15'] >= 10.0\n",
    "MEPS15.loc[moreE,'TOTEXP15'] = 1.0\n",
    "\n",
    "MEPS15 = MEPS15.rename(columns = {'TOTEXP15' : 'UTILIZATION'})\n",
    "\n",
    "MEPS15 = MEPS15[['REGION','AGE','SEX','RACE','MARRY',\n",
    "                                 'FTSTU','ACTDTY','HONRDC','RTHLTH','MNHLTH','HIBPDX','CHDDX','ANGIDX',\n",
    "                                 'MIDX','OHRTDX','STRKDX','EMPHDX','CHBRON','CHOLDX','CANCERDX','DIABDX',\n",
    "                                 'JTPAIN','ARTHDX','ARTHTYPE','ASTHDX','ADHDADDX','PREGNT','WLKLIM',\n",
    "                                 'ACTLIM','SOCLIM','COGLIM','DFHEAR42','DFSEE42', 'ADSMOK42',\n",
    "                                 'PCS42','MCS42','K6SUM42','PHQ242','EMPST','POVCAT','INSCOV','UTILIZATION', 'PERWT15F']]\n",
    "\n",
    "MEPS15 = MEPS15.rename(columns={\"UTILIZATION\": \"Probability\",\"RACE\" : \"race\"})"
   ]
  },
  {
   "cell_type": "markdown",
   "id": "a0d3daa3",
   "metadata": {
    "_cell_guid": "3a516dca-ec2e-47d6-b6d3-b04abc87f51f",
    "_uuid": "b29921fd-fae9-4784-88e7-bac3582ffaa4",
    "collapsed": false,
    "jupyter": {
     "outputs_hidden": false
    },
    "papermill": {
     "duration": 0.004249,
     "end_time": "2024-12-22T02:45:40.158036",
     "exception": false,
     "start_time": "2024-12-22T02:45:40.153787",
     "status": "completed"
    },
    "tags": []
   },
   "source": [
    "### 1.11. Medical Expediture Dataset 2"
   ]
  },
  {
   "cell_type": "code",
   "execution_count": 7,
   "id": "fa528c4e",
   "metadata": {
    "_cell_guid": "36469ec0-f037-4bd7-9860-03dc5bde0797",
    "_uuid": "81bd05e5-3a80-4e79-a81d-3621c1ee631d",
    "collapsed": false,
    "execution": {
     "iopub.execute_input": "2024-12-22T02:45:40.167992Z",
     "iopub.status.busy": "2024-12-22T02:45:40.167749Z",
     "iopub.status.idle": "2024-12-22T02:45:50.797223Z",
     "shell.execute_reply": "2024-12-22T02:45:50.796533Z"
    },
    "jupyter": {
     "outputs_hidden": false
    },
    "papermill": {
     "duration": 10.636926,
     "end_time": "2024-12-22T02:45:50.799256",
     "exception": false,
     "start_time": "2024-12-22T02:45:40.162330",
     "status": "completed"
    },
    "tags": []
   },
   "outputs": [],
   "source": [
    "MEPS16 = pd.read_csv('/kaggle/input/medical-expediture-meps-1-2/h192.csv')\n",
    "\n",
    "# ## Drop NULL values\n",
    "MEPS16 = MEPS16.dropna()\n",
    "\n",
    "\n",
    "MEPS16 = MEPS16.rename(columns = {'FTSTU53X' : 'FTSTU', 'ACTDTY53' : 'ACTDTY', 'HONRDC53' : 'HONRDC', 'RTHLTH53' : 'RTHLTH',\n",
    "                              'MNHLTH53' : 'MNHLTH', 'CHBRON53' : 'CHBRON', 'JTPAIN53' : 'JTPAIN', 'PREGNT53' : 'PREGNT',\n",
    "                              'WLKLIM53' : 'WLKLIM', 'ACTLIM53' : 'ACTLIM', 'SOCLIM53' : 'SOCLIM', 'COGLIM53' : 'COGLIM',\n",
    "                              'EMPST53' : 'EMPST', 'REGION53' : 'REGION', 'MARRY53X' : 'MARRY', 'AGE53X' : 'AGE',\n",
    "                              'POVCAT16' : 'POVCAT', 'INSCOV16' : 'INSCOV'})\n",
    "\n",
    "\n",
    "MEPS16 = MEPS16[MEPS16['PANEL'] == 21]\n",
    "MEPS16 = MEPS16[MEPS16['REGION'] >= 0] # remove values -1\n",
    "MEPS16 = MEPS16[MEPS16['AGE'] >= 0] # remove values -1\n",
    "MEPS16 = MEPS16[MEPS16['MARRY'] >= 0] # remove values -1, -7, -8, -9\n",
    "MEPS16 = MEPS16[MEPS16['ASTHDX'] >= 0] # remove values -1, -7, -8, -9\n",
    "MEPS16 = MEPS16[(MEPS16[['FTSTU','ACTDTY','HONRDC','RTHLTH','MNHLTH','HIBPDX','CHDDX','ANGIDX','EDUCYR','HIDEG',\n",
    "                         'MIDX','OHRTDX','STRKDX','EMPHDX','CHBRON','CHOLDX','CANCERDX','DIABDX',\n",
    "                         'JTPAIN','ARTHDX','ARTHTYPE','ASTHDX','ADHDADDX','PREGNT','WLKLIM',\n",
    "                         'ACTLIM','SOCLIM','COGLIM','DFHEAR42','DFSEE42','ADSMOK42',\n",
    "                         'PHQ242','EMPST','POVCAT','INSCOV']] >= -1).all(1)]\n",
    "\n",
    "# ## Change symbolics to numerics\n",
    "MEPS16['RACEV2X'] = np.where((MEPS16['HISPANX'] == 2 ) & (MEPS16['RACEV2X'] == 1), 1, MEPS16['RACEV2X'])\n",
    "MEPS16['RACEV2X'] = np.where(MEPS16['RACEV2X'] != 1 , 0, MEPS16['RACEV2X'])\n",
    "MEPS16 = MEPS16.rename(columns={\"RACEV2X\" : \"RACE\"})\n",
    "# MEPS16['UTILIZATION'] = np.where(MEPS16['UTILIZATION'] >= 10, 1, 0)\n",
    "\n",
    "\n",
    "\n",
    "def utilization(row):\n",
    "        return row['OBTOTV16'] + row['OPTOTV16'] + row['ERTOT16'] + row['IPNGTD16'] + row['HHTOTD16']\n",
    "\n",
    "MEPS16['TOTEXP16'] = MEPS16.apply(lambda row: utilization(row), axis=1)\n",
    "lessE = MEPS16['TOTEXP16'] < 10.0\n",
    "MEPS16.loc[lessE,'TOTEXP16'] = 0.0\n",
    "moreE = MEPS16['TOTEXP16'] >= 10.0\n",
    "MEPS16.loc[moreE,'TOTEXP16'] = 1.0\n",
    "\n",
    "MEPS16 = MEPS16.rename(columns = {'TOTEXP16' : 'UTILIZATION'})\n",
    "\n",
    "MEPS16 = MEPS16[['REGION','AGE','SEX','RACE','MARRY',\n",
    "                                 'FTSTU','ACTDTY','HONRDC','RTHLTH','MNHLTH','HIBPDX','CHDDX','ANGIDX',\n",
    "                                 'MIDX','OHRTDX','STRKDX','EMPHDX','CHBRON','CHOLDX','CANCERDX','DIABDX',\n",
    "                                 'JTPAIN','ARTHDX','ARTHTYPE','ASTHDX','ADHDADDX','PREGNT','WLKLIM',\n",
    "                                 'ACTLIM','SOCLIM','COGLIM','DFHEAR42','DFSEE42', 'ADSMOK42',\n",
    "                                 'PCS42','MCS42','K6SUM42','PHQ242','EMPST','POVCAT','INSCOV','UTILIZATION', 'PERWT16F']]\n",
    "\n",
    "MEPS16 = MEPS16.rename(columns={\"UTILIZATION\": \"Probability\",\"RACE\" : \"race\"})\n",
    "protected_attribute = 'race'"
   ]
  },
  {
   "cell_type": "markdown",
   "id": "66a6aeed",
   "metadata": {
    "_cell_guid": "676b8b57-8ed1-4069-981c-c0249a368dee",
    "_uuid": "6df66010-f28a-4313-aca4-6039200325e3",
    "collapsed": false,
    "jupyter": {
     "outputs_hidden": false
    },
    "papermill": {
     "duration": 0.004338,
     "end_time": "2024-12-22T02:45:50.808365",
     "exception": false,
     "start_time": "2024-12-22T02:45:50.804027",
     "status": "completed"
    },
    "tags": []
   },
   "source": [
    "### 2 Train-Test Splits and Data Preparation for SMOTE"
   ]
  },
  {
   "cell_type": "code",
   "execution_count": 8,
   "id": "b58154aa",
   "metadata": {
    "_cell_guid": "a21f9a1d-c182-4032-9667-9c4671330dfd",
    "_uuid": "d70e79cf-b15c-4e7a-9853-2b3e4f10f43c",
    "collapsed": false,
    "execution": {
     "iopub.execute_input": "2024-12-22T02:45:50.818153Z",
     "iopub.status.busy": "2024-12-22T02:45:50.817882Z",
     "iopub.status.idle": "2024-12-22T02:45:51.046099Z",
     "shell.execute_reply": "2024-12-22T02:45:51.045182Z"
    },
    "jupyter": {
     "outputs_hidden": false
    },
    "papermill": {
     "duration": 0.235432,
     "end_time": "2024-12-22T02:45:51.048184",
     "exception": false,
     "start_time": "2024-12-22T02:45:50.812752",
     "status": "completed"
    },
    "tags": []
   },
   "outputs": [],
   "source": [
    "# Import necessary libraries\n",
    "from sklearn.model_selection import train_test_split\n",
    "\n",
    "# A helper function to split data into train and test sets\n",
    "def split_data(df, target, test_size=0.3, random_state=42, stratify=True):\n",
    "    if target not in df.columns:\n",
    "        raise ValueError(f\"Target column '{target}' not found in DataFrame.\")\n",
    "    X = df.drop(columns=[target])\n",
    "    y = df[target]\n",
    "    if stratify:\n",
    "        X_train, X_test, y_train, y_test = train_test_split(\n",
    "            X, y, test_size=test_size, random_state=random_state, stratify=y\n",
    "        )\n",
    "    else:\n",
    "        X_train, X_test, y_train, y_test = train_test_split(\n",
    "            X, y, test_size=test_size, random_state=random_state\n",
    "        )\n",
    "    return X_train, X_test, y_train, y_test\n",
    "\n",
    "# Example: Preprocess and split datasets\n",
    "# Adult Census Income Dataset\n",
    "X_train_adult, X_test_adult, y_train_adult, y_test_adult = split_data(adult_df, target=\"Probability\")\n",
    "\n",
    "# German Credit Dataset\n",
    "X_train_german, X_test_german, y_train_german, y_test_german = split_data(german_df, target=\"Probability\")\n",
    "\n",
    "# Default Credit Dataset (ensure target column exists)\n",
    "default_df.rename(columns={\"default payment next month\": \"Probability\"}, inplace=True)\n",
    "X_train_default, X_test_default, y_train_default, y_test_default = split_data(default_df, target=\"Probability\")\n",
    "\n",
    "# Bank Marketing Dataset\n",
    "X_train_bank, X_test_bank, y_train_bank, y_test_bank = split_data(bank_df, target=\"Probability\")\n",
    "\n",
    "# MEPS15 Dataset\n",
    "X_train_meps15, X_test_meps15, y_train_meps15, y_test_meps15 = split_data(MEPS15, target=\"Probability\")\n",
    "\n",
    "# MEPS16 Dataset\n",
    "X_train_meps16, X_test_meps16, y_train_meps16, y_test_meps16 = split_data(MEPS16, target=\"Probability\")"
   ]
  },
  {
   "cell_type": "code",
   "execution_count": 9,
   "id": "6b7f6c79",
   "metadata": {
    "_cell_guid": "b14d1f30-8cc5-4168-80fc-01ba0f3fc644",
    "_uuid": "e6df5732-e05a-4d23-aea5-8236f7c75ca0",
    "collapsed": false,
    "execution": {
     "iopub.execute_input": "2024-12-22T02:45:51.058288Z",
     "iopub.status.busy": "2024-12-22T02:45:51.057998Z",
     "iopub.status.idle": "2024-12-22T02:45:51.134880Z",
     "shell.execute_reply": "2024-12-22T02:45:51.134156Z"
    },
    "jupyter": {
     "outputs_hidden": false
    },
    "papermill": {
     "duration": 0.083802,
     "end_time": "2024-12-22T02:45:51.136590",
     "exception": false,
     "start_time": "2024-12-22T02:45:51.052788",
     "status": "completed"
    },
    "tags": []
   },
   "outputs": [],
   "source": [
    "# Note: MEPS15, MEPS16 and Default Credit Datasets did not need encoding for SMOTE as they are already numerical.\n",
    "\n",
    "# Encoding the X_train and X_test to prepare Adult Dataset for SMOTE\n",
    "X_train_adult = pd.get_dummies(X_train_adult, drop_first=True)\n",
    "X_test_adult = pd.get_dummies(X_test_adult, drop_first=True)\n",
    "\n",
    "# Encoding the X_train and X_test to prepare German Dataset for SMOTE\n",
    "X_train_german = pd.get_dummies(X_train_german, drop_first=True)\n",
    "X_test_german = pd.get_dummies(X_test_german, drop_first=True)\n",
    "\n",
    "# Encoding the X_train and X_test to prepare Bank Dataset for SMOTE\n",
    "X_train_bank = pd.get_dummies(X_train_bank, drop_first=True)\n",
    "X_test_bank = pd.get_dummies(X_test_bank, drop_first=True)\n",
    "\n",
    "# After encoding X_train_adult and X_test_adult, do:\n",
    "X_test_adult = X_test_adult.reindex(columns=X_train_adult.columns, fill_value=0)\n",
    "\n",
    "# Similarly, for the German dataset:\n",
    "X_test_german = X_test_german.reindex(columns=X_train_german.columns, fill_value=0)\n",
    "\n",
    "# Similarly, for the Bank dataset:\n",
    "X_test_bank = X_test_bank.reindex(columns=X_train_bank.columns, fill_value=0)\n"
   ]
  },
  {
   "cell_type": "code",
   "execution_count": 10,
   "id": "7ffc7c56",
   "metadata": {
    "_cell_guid": "ae4ebfa9-8800-4a56-8805-1827fcad09e1",
    "_uuid": "272e1cf8-1fa7-4e43-9ba1-6da1f5dfee96",
    "collapsed": false,
    "execution": {
     "iopub.execute_input": "2024-12-22T02:45:51.146294Z",
     "iopub.status.busy": "2024-12-22T02:45:51.146023Z",
     "iopub.status.idle": "2024-12-22T02:45:51.334415Z",
     "shell.execute_reply": "2024-12-22T02:45:51.333537Z"
    },
    "jupyter": {
     "outputs_hidden": false
    },
    "papermill": {
     "duration": 0.195378,
     "end_time": "2024-12-22T02:45:51.336421",
     "exception": false,
     "start_time": "2024-12-22T02:45:51.141043",
     "status": "completed"
    },
    "tags": []
   },
   "outputs": [],
   "source": [
    "import pandas as pd\n",
    "from sklearn.linear_model import LogisticRegression\n",
    "from sklearn.ensemble import RandomForestClassifier\n",
    "from sklearn.svm import SVC\n",
    "from sklearn.metrics import accuracy_score, classification_report\n",
    "from sklearn.model_selection import train_test_split\n",
    "import warnings\n",
    "\n",
    "warnings.filterwarnings(\"ignore\", category=FutureWarning)\n",
    "warnings.filterwarnings(\"ignore\", category=UserWarning)\n",
    "\n",
    "# Place all datasets in a dictionary for convenience\n",
    "datasets = {\n",
    "    \"Adult\": (X_train_adult, X_test_adult, y_train_adult, y_test_adult),\n",
    "    \"German\": (X_train_german, X_test_german, y_train_german, y_test_german),\n",
    "    \"Default\": (X_train_default, X_test_default, y_train_default, y_test_default),\n",
    "    \"Bank\": (X_train_bank, X_test_bank, y_train_bank, y_test_bank),\n",
    "    \"MEPS15\": (X_train_meps15, X_test_meps15, y_train_meps15, y_test_meps15),\n",
    "    \"MEPS16\": (X_train_meps16, X_test_meps16, y_train_meps16, y_test_meps16),\n",
    "}"
   ]
  },
  {
   "cell_type": "code",
   "execution_count": 11,
   "id": "192bcda9",
   "metadata": {
    "_cell_guid": "fd44ebf9-7e5c-4510-9753-add1ed3e07e1",
    "_uuid": "5facc797-cfbc-4709-9b1d-09ec24f8da56",
    "collapsed": false,
    "execution": {
     "iopub.execute_input": "2024-12-22T02:45:51.346556Z",
     "iopub.status.busy": "2024-12-22T02:45:51.346252Z",
     "iopub.status.idle": "2024-12-22T02:45:51.352678Z",
     "shell.execute_reply": "2024-12-22T02:45:51.351885Z"
    },
    "jupyter": {
     "outputs_hidden": false
    },
    "papermill": {
     "duration": 0.013175,
     "end_time": "2024-12-22T02:45:51.354210",
     "exception": false,
     "start_time": "2024-12-22T02:45:51.341035",
     "status": "completed"
    },
    "tags": []
   },
   "outputs": [],
   "source": [
    "def train_and_evaluate_classifiers(X_train, X_test, y_train, y_test, dataset_name):\n",
    "    print(f\"\\n{'='*60}\")\n",
    "    print(f\"DATASET: {dataset_name.upper()}\")\n",
    "    print(f\"{'='*60}\")\n",
    "\n",
    "    # 1. LSR => Logistic Regression\n",
    "    lsr_model = LogisticRegression(\n",
    "        max_iter=50,\n",
    "        random_state=42\n",
    "    )\n",
    "    lsr_model.fit(X_train, y_train)\n",
    "    lsr_preds = lsr_model.predict(X_test)\n",
    "    lsr_accuracy = accuracy_score(y_test, lsr_preds)\n",
    "    print(f\"\\n[LSR - Logistic Regression Results]\")\n",
    "    print(f\"Accuracy: {lsr_accuracy:.4f}\")\n",
    "    print(classification_report(y_test, lsr_preds))\n",
    "    \n",
    "    # 2. RF => Random Forest\n",
    "    rf_model = RandomForestClassifier(\n",
    "        n_estimators=50,  # 50 trees\n",
    "        random_state=42\n",
    "    )\n",
    "    rf_model.fit(X_train, y_train)\n",
    "    rf_preds = rf_model.predict(X_test)\n",
    "    rf_accuracy = accuracy_score(y_test, rf_preds)\n",
    "    print(f\"[RF - Random Forest Results]\")\n",
    "    print(f\"Accuracy: {rf_accuracy:.4f}\")\n",
    "    print(classification_report(y_test, rf_preds))\n",
    "\n",
    "    # 3. SVM => Support Vector Machine\n",
    "    svm_model = SVC(\n",
    "        max_iter=50,\n",
    "        random_state=42\n",
    "    )\n",
    "    svm_model.fit(X_train, y_train)\n",
    "    svm_preds = svm_model.predict(X_test)\n",
    "    svm_accuracy = accuracy_score(y_test, svm_preds)\n",
    "    print(f\"[SVM - Support Vector Machine Results]\")\n",
    "    print(f\"Accuracy: {svm_accuracy:.4f}\")\n",
    "    print(classification_report(y_test, svm_preds))"
   ]
  },
  {
   "cell_type": "code",
   "execution_count": 12,
   "id": "d6d2b0c5",
   "metadata": {
    "_cell_guid": "a1073935-3ad2-4840-beb1-45a77245fc7b",
    "_uuid": "43e199cd-da50-4d0a-9792-583ce9c33993",
    "collapsed": false,
    "execution": {
     "iopub.execute_input": "2024-12-22T02:45:51.363731Z",
     "iopub.status.busy": "2024-12-22T02:45:51.363443Z",
     "iopub.status.idle": "2024-12-22T02:46:02.512781Z",
     "shell.execute_reply": "2024-12-22T02:46:02.511922Z"
    },
    "jupyter": {
     "outputs_hidden": false
    },
    "papermill": {
     "duration": 11.156751,
     "end_time": "2024-12-22T02:46:02.515153",
     "exception": false,
     "start_time": "2024-12-22T02:45:51.358402",
     "status": "completed"
    },
    "tags": []
   },
   "outputs": [
    {
     "name": "stdout",
     "output_type": "stream",
     "text": [
      "\n",
      "============================================================\n",
      "DATASET: ADULT\n",
      "============================================================\n",
      "\n",
      "[LSR - Logistic Regression Results]\n",
      "Accuracy: 0.7980\n",
      "              precision    recall  f1-score   support\n",
      "\n",
      "           0       0.81      0.97      0.88     11147\n",
      "           1       0.71      0.26      0.38      3506\n",
      "\n",
      "    accuracy                           0.80     14653\n",
      "   macro avg       0.76      0.61      0.63     14653\n",
      "weighted avg       0.78      0.80      0.76     14653\n",
      "\n",
      "[RF - Random Forest Results]\n",
      "Accuracy: 0.8543\n",
      "              precision    recall  f1-score   support\n",
      "\n",
      "           0       0.89      0.93      0.91     11147\n",
      "           1       0.73      0.62      0.67      3506\n",
      "\n",
      "    accuracy                           0.85     14653\n",
      "   macro avg       0.81      0.77      0.79     14653\n",
      "weighted avg       0.85      0.85      0.85     14653\n",
      "\n",
      "[SVM - Support Vector Machine Results]\n",
      "Accuracy: 0.5569\n",
      "              precision    recall  f1-score   support\n",
      "\n",
      "           0       0.75      0.62      0.68     11147\n",
      "           1       0.23      0.36      0.28      3506\n",
      "\n",
      "    accuracy                           0.56     14653\n",
      "   macro avg       0.49      0.49      0.48     14653\n",
      "weighted avg       0.63      0.56      0.58     14653\n",
      "\n",
      "\n",
      "============================================================\n",
      "DATASET: GERMAN\n",
      "============================================================\n",
      "\n",
      "[LSR - Logistic Regression Results]\n",
      "Accuracy: 0.7100\n",
      "              precision    recall  f1-score   support\n",
      "\n",
      "           0       0.57      0.13      0.22        90\n",
      "           1       0.72      0.96      0.82       210\n",
      "\n",
      "    accuracy                           0.71       300\n",
      "   macro avg       0.65      0.55      0.52       300\n",
      "weighted avg       0.68      0.71      0.64       300\n",
      "\n",
      "[RF - Random Forest Results]\n",
      "Accuracy: 0.7300\n",
      "              precision    recall  f1-score   support\n",
      "\n",
      "           0       0.59      0.33      0.43        90\n",
      "           1       0.76      0.90      0.82       210\n",
      "\n",
      "    accuracy                           0.73       300\n",
      "   macro avg       0.67      0.62      0.62       300\n",
      "weighted avg       0.71      0.73      0.70       300\n",
      "\n",
      "[SVM - Support Vector Machine Results]\n",
      "Accuracy: 0.6500\n",
      "              precision    recall  f1-score   support\n",
      "\n",
      "           0       0.38      0.28      0.32        90\n",
      "           1       0.72      0.81      0.76       210\n",
      "\n",
      "    accuracy                           0.65       300\n",
      "   macro avg       0.55      0.54      0.54       300\n",
      "weighted avg       0.62      0.65      0.63       300\n",
      "\n",
      "\n",
      "============================================================\n",
      "DATASET: DEFAULT\n",
      "============================================================\n",
      "\n",
      "[LSR - Logistic Regression Results]\n",
      "Accuracy: 0.7788\n",
      "              precision    recall  f1-score   support\n",
      "\n",
      "           0       0.78      1.00      0.88      7009\n",
      "           1       0.00      0.00      0.00      1991\n",
      "\n",
      "    accuracy                           0.78      9000\n",
      "   macro avg       0.39      0.50      0.44      9000\n",
      "weighted avg       0.61      0.78      0.68      9000\n",
      "\n",
      "[RF - Random Forest Results]\n",
      "Accuracy: 0.8166\n",
      "              precision    recall  f1-score   support\n",
      "\n",
      "           0       0.84      0.95      0.89      7009\n",
      "           1       0.66      0.36      0.47      1991\n",
      "\n",
      "    accuracy                           0.82      9000\n",
      "   macro avg       0.75      0.65      0.68      9000\n",
      "weighted avg       0.80      0.82      0.80      9000\n",
      "\n",
      "[SVM - Support Vector Machine Results]\n",
      "Accuracy: 0.3533\n",
      "              precision    recall  f1-score   support\n",
      "\n",
      "           0       0.84      0.21      0.34      7009\n",
      "           1       0.24      0.86      0.37      1991\n",
      "\n",
      "    accuracy                           0.35      9000\n",
      "   macro avg       0.54      0.53      0.35      9000\n",
      "weighted avg       0.71      0.35      0.34      9000\n",
      "\n",
      "\n",
      "============================================================\n",
      "DATASET: BANK\n",
      "============================================================\n",
      "\n",
      "[LSR - Logistic Regression Results]\n",
      "Accuracy: 0.7611\n",
      "              precision    recall  f1-score   support\n",
      "\n",
      "           0       0.76      0.79      0.78      1762\n",
      "           1       0.76      0.73      0.74      1587\n",
      "\n",
      "    accuracy                           0.76      3349\n",
      "   macro avg       0.76      0.76      0.76      3349\n",
      "weighted avg       0.76      0.76      0.76      3349\n",
      "\n",
      "[RF - Random Forest Results]\n",
      "Accuracy: 0.8537\n",
      "              precision    recall  f1-score   support\n",
      "\n",
      "           0       0.88      0.84      0.86      1762\n",
      "           1       0.83      0.87      0.85      1587\n",
      "\n",
      "    accuracy                           0.85      3349\n",
      "   macro avg       0.85      0.85      0.85      3349\n",
      "weighted avg       0.86      0.85      0.85      3349\n",
      "\n",
      "[SVM - Support Vector Machine Results]\n",
      "Accuracy: 0.4473\n",
      "              precision    recall  f1-score   support\n",
      "\n",
      "           0       0.44      0.18      0.25      1762\n",
      "           1       0.45      0.75      0.56      1587\n",
      "\n",
      "    accuracy                           0.45      3349\n",
      "   macro avg       0.44      0.46      0.41      3349\n",
      "weighted avg       0.44      0.45      0.40      3349\n",
      "\n",
      "\n",
      "============================================================\n",
      "DATASET: MEPS15\n",
      "============================================================\n",
      "\n",
      "[LSR - Logistic Regression Results]\n",
      "Accuracy: 0.8367\n",
      "              precision    recall  f1-score   support\n",
      "\n",
      "           0       0.86      0.97      0.91      4364\n",
      "           1       0.57      0.22      0.32       907\n",
      "\n",
      "    accuracy                           0.84      5271\n",
      "   macro avg       0.71      0.59      0.61      5271\n",
      "weighted avg       0.81      0.84      0.81      5271\n",
      "\n",
      "[RF - Random Forest Results]\n",
      "Accuracy: 0.8501\n",
      "              precision    recall  f1-score   support\n",
      "\n",
      "           0       0.87      0.96      0.91      4364\n",
      "           1       0.63      0.31      0.42       907\n",
      "\n",
      "    accuracy                           0.85      5271\n",
      "   macro avg       0.75      0.64      0.67      5271\n",
      "weighted avg       0.83      0.85      0.83      5271\n",
      "\n",
      "[SVM - Support Vector Machine Results]\n",
      "Accuracy: 0.5731\n",
      "              precision    recall  f1-score   support\n",
      "\n",
      "           0       0.87      0.57      0.69      4364\n",
      "           1       0.22      0.59      0.32       907\n",
      "\n",
      "    accuracy                           0.57      5271\n",
      "   macro avg       0.55      0.58      0.51      5271\n",
      "weighted avg       0.76      0.57      0.63      5271\n",
      "\n",
      "\n",
      "============================================================\n",
      "DATASET: MEPS16\n",
      "============================================================\n",
      "\n",
      "[LSR - Logistic Regression Results]\n",
      "Accuracy: 0.8473\n",
      "              precision    recall  f1-score   support\n",
      "\n",
      "         0.0       0.86      0.98      0.91      3914\n",
      "         1.0       0.64      0.20      0.30       788\n",
      "\n",
      "    accuracy                           0.85      4702\n",
      "   macro avg       0.75      0.59      0.61      4702\n",
      "weighted avg       0.82      0.85      0.81      4702\n",
      "\n",
      "[RF - Random Forest Results]\n",
      "Accuracy: 0.8573\n",
      "              precision    recall  f1-score   support\n",
      "\n",
      "         0.0       0.87      0.97      0.92      3914\n",
      "         1.0       0.67      0.30      0.41       788\n",
      "\n",
      "    accuracy                           0.86      4702\n",
      "   macro avg       0.77      0.63      0.67      4702\n",
      "weighted avg       0.84      0.86      0.83      4702\n",
      "\n",
      "[SVM - Support Vector Machine Results]\n",
      "Accuracy: 0.2724\n",
      "              precision    recall  f1-score   support\n",
      "\n",
      "         0.0       0.81      0.16      0.27      3914\n",
      "         1.0       0.16      0.81      0.27       788\n",
      "\n",
      "    accuracy                           0.27      4702\n",
      "   macro avg       0.49      0.49      0.27      4702\n",
      "weighted avg       0.71      0.27      0.27      4702\n",
      "\n"
     ]
    }
   ],
   "source": [
    "# Loop over each dataset and train/evaluate all three classifiers\n",
    "for name, (X_train, X_test, y_train, y_test) in datasets.items():\n",
    "    train_and_evaluate_classifiers(X_train, X_test, y_train, y_test, dataset_name=name)"
   ]
  }
 ],
 "metadata": {
  "kaggle": {
   "accelerator": "gpu",
   "dataSources": [
    {
     "databundleVersionId": 860599,
     "sourceId": 9120,
     "sourceType": "competition"
    },
    {
     "datasetId": 5994317,
     "sourceId": 9783828,
     "sourceType": "datasetVersion"
    },
    {
     "datasetId": 6309984,
     "sourceId": 10209629,
     "sourceType": "datasetVersion"
    },
    {
     "datasetId": 6310265,
     "sourceId": 10210022,
     "sourceType": "datasetVersion"
    },
    {
     "datasetId": 6310590,
     "sourceId": 10210446,
     "sourceType": "datasetVersion"
    },
    {
     "datasetId": 6317009,
     "sourceId": 10218987,
     "sourceType": "datasetVersion"
    }
   ],
   "dockerImageVersionId": 30804,
   "isGpuEnabled": true,
   "isInternetEnabled": true,
   "language": "python",
   "sourceType": "notebook"
  },
  "kernelspec": {
   "display_name": "Python 3",
   "language": "python",
   "name": "python3"
  },
  "language_info": {
   "codemirror_mode": {
    "name": "ipython",
    "version": 3
   },
   "file_extension": ".py",
   "mimetype": "text/x-python",
   "name": "python",
   "nbconvert_exporter": "python",
   "pygments_lexer": "ipython3",
   "version": "3.10.14"
  },
  "papermill": {
   "default_parameters": {},
   "duration": 37.131451,
   "end_time": "2024-12-22T02:46:03.039177",
   "environment_variables": {},
   "exception": null,
   "input_path": "__notebook__.ipynb",
   "output_path": "__notebook__.ipynb",
   "parameters": {},
   "start_time": "2024-12-22T02:45:25.907726",
   "version": "2.6.0"
  }
 },
 "nbformat": 4,
 "nbformat_minor": 5
}

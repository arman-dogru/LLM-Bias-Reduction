{
 "cells": [
  {
   "cell_type": "markdown",
   "id": "755d65f4",
   "metadata": {
    "_cell_guid": "92acfac2-a720-4c6e-aee0-406d4cf349b2",
    "_uuid": "82082e55-e238-4233-ade9-248b3607e6d0",
    "collapsed": false,
    "jupyter": {
     "outputs_hidden": false
    },
    "papermill": {
     "duration": 0.005137,
     "end_time": "2024-12-22T02:49:36.816945",
     "exception": false,
     "start_time": "2024-12-22T02:49:36.811808",
     "status": "completed"
    },
    "tags": []
   },
   "source": [
    "## **1. Data Pre-Processing**"
   ]
  },
  {
   "cell_type": "markdown",
   "id": "c43592fc",
   "metadata": {
    "_cell_guid": "3b677098-869d-4e62-8559-cabc60148b7a",
    "_uuid": "bc71f226-0c59-4cb1-bb6e-ee2225ef4674",
    "collapsed": false,
    "jupyter": {
     "outputs_hidden": false
    },
    "papermill": {
     "duration": 0.005288,
     "end_time": "2024-12-22T02:49:36.827451",
     "exception": false,
     "start_time": "2024-12-22T02:49:36.822163",
     "status": "completed"
    },
    "tags": []
   },
   "source": [
    "### 1.1. Imports"
   ]
  },
  {
   "cell_type": "code",
   "execution_count": 1,
   "id": "e8bb41fd",
   "metadata": {
    "_cell_guid": "804fd086-b1d8-430b-8027-30887fbfad9a",
    "_uuid": "a99645b7-b295-4d16-a3f6-ff3c71305ef1",
    "collapsed": false,
    "execution": {
     "iopub.execute_input": "2024-12-22T02:49:36.839630Z",
     "iopub.status.busy": "2024-12-22T02:49:36.839267Z",
     "iopub.status.idle": "2024-12-22T02:49:46.591302Z",
     "shell.execute_reply": "2024-12-22T02:49:46.590465Z"
    },
    "jupyter": {
     "outputs_hidden": false
    },
    "papermill": {
     "duration": 9.76054,
     "end_time": "2024-12-22T02:49:46.593405",
     "exception": false,
     "start_time": "2024-12-22T02:49:36.832865",
     "status": "completed"
    },
    "tags": []
   },
   "outputs": [
    {
     "name": "stdout",
     "output_type": "stream",
     "text": [
      "Requirement already satisfied: transformers in /opt/conda/lib/python3.10/site-packages (4.46.3)\r\n",
      "Requirement already satisfied: datasets in /opt/conda/lib/python3.10/site-packages (3.1.0)\r\n",
      "Requirement already satisfied: scikit-learn in /opt/conda/lib/python3.10/site-packages (1.2.2)\r\n",
      "Requirement already satisfied: torch in /opt/conda/lib/python3.10/site-packages (2.4.0)\r\n",
      "Requirement already satisfied: filelock in /opt/conda/lib/python3.10/site-packages (from transformers) (3.15.1)\r\n",
      "Requirement already satisfied: huggingface-hub<1.0,>=0.23.2 in /opt/conda/lib/python3.10/site-packages (from transformers) (0.26.2)\r\n",
      "Requirement already satisfied: numpy>=1.17 in /opt/conda/lib/python3.10/site-packages (from transformers) (1.26.4)\r\n",
      "Requirement already satisfied: packaging>=20.0 in /opt/conda/lib/python3.10/site-packages (from transformers) (21.3)\r\n",
      "Requirement already satisfied: pyyaml>=5.1 in /opt/conda/lib/python3.10/site-packages (from transformers) (6.0.2)\r\n",
      "Requirement already satisfied: regex!=2019.12.17 in /opt/conda/lib/python3.10/site-packages (from transformers) (2024.5.15)\r\n",
      "Requirement already satisfied: requests in /opt/conda/lib/python3.10/site-packages (from transformers) (2.32.3)\r\n",
      "Requirement already satisfied: tokenizers<0.21,>=0.20 in /opt/conda/lib/python3.10/site-packages (from transformers) (0.20.3)\r\n",
      "Requirement already satisfied: safetensors>=0.4.1 in /opt/conda/lib/python3.10/site-packages (from transformers) (0.4.5)\r\n",
      "Requirement already satisfied: tqdm>=4.27 in /opt/conda/lib/python3.10/site-packages (from transformers) (4.66.4)\r\n",
      "Requirement already satisfied: pyarrow>=15.0.0 in /opt/conda/lib/python3.10/site-packages (from datasets) (17.0.0)\r\n",
      "Requirement already satisfied: dill<0.3.9,>=0.3.0 in /opt/conda/lib/python3.10/site-packages (from datasets) (0.3.8)\r\n",
      "Requirement already satisfied: pandas in /opt/conda/lib/python3.10/site-packages (from datasets) (2.2.3)\r\n",
      "Requirement already satisfied: xxhash in /opt/conda/lib/python3.10/site-packages (from datasets) (3.4.1)\r\n",
      "Requirement already satisfied: multiprocess<0.70.17 in /opt/conda/lib/python3.10/site-packages (from datasets) (0.70.16)\r\n",
      "Requirement already satisfied: fsspec<=2024.9.0,>=2023.1.0 in /opt/conda/lib/python3.10/site-packages (from fsspec[http]<=2024.9.0,>=2023.1.0->datasets) (2024.6.0)\r\n",
      "Requirement already satisfied: aiohttp in /opt/conda/lib/python3.10/site-packages (from datasets) (3.9.5)\r\n",
      "Requirement already satisfied: scipy>=1.3.2 in /opt/conda/lib/python3.10/site-packages (from scikit-learn) (1.14.1)\r\n",
      "Requirement already satisfied: joblib>=1.1.1 in /opt/conda/lib/python3.10/site-packages (from scikit-learn) (1.4.2)\r\n",
      "Requirement already satisfied: threadpoolctl>=2.0.0 in /opt/conda/lib/python3.10/site-packages (from scikit-learn) (3.5.0)\r\n",
      "Requirement already satisfied: typing-extensions>=4.8.0 in /opt/conda/lib/python3.10/site-packages (from torch) (4.12.2)\r\n",
      "Requirement already satisfied: sympy in /opt/conda/lib/python3.10/site-packages (from torch) (1.13.3)\r\n",
      "Requirement already satisfied: networkx in /opt/conda/lib/python3.10/site-packages (from torch) (3.3)\r\n",
      "Requirement already satisfied: jinja2 in /opt/conda/lib/python3.10/site-packages (from torch) (3.1.4)\r\n",
      "Requirement already satisfied: aiosignal>=1.1.2 in /opt/conda/lib/python3.10/site-packages (from aiohttp->datasets) (1.3.1)\r\n",
      "Requirement already satisfied: attrs>=17.3.0 in /opt/conda/lib/python3.10/site-packages (from aiohttp->datasets) (23.2.0)\r\n",
      "Requirement already satisfied: frozenlist>=1.1.1 in /opt/conda/lib/python3.10/site-packages (from aiohttp->datasets) (1.4.1)\r\n",
      "Requirement already satisfied: multidict<7.0,>=4.5 in /opt/conda/lib/python3.10/site-packages (from aiohttp->datasets) (6.0.5)\r\n",
      "Requirement already satisfied: yarl<2.0,>=1.0 in /opt/conda/lib/python3.10/site-packages (from aiohttp->datasets) (1.9.4)\r\n",
      "Requirement already satisfied: async-timeout<5.0,>=4.0 in /opt/conda/lib/python3.10/site-packages (from aiohttp->datasets) (4.0.3)\r\n",
      "Requirement already satisfied: pyparsing!=3.0.5,>=2.0.2 in /opt/conda/lib/python3.10/site-packages (from packaging>=20.0->transformers) (3.1.2)\r\n",
      "Requirement already satisfied: charset-normalizer<4,>=2 in /opt/conda/lib/python3.10/site-packages (from requests->transformers) (3.3.2)\r\n",
      "Requirement already satisfied: idna<4,>=2.5 in /opt/conda/lib/python3.10/site-packages (from requests->transformers) (3.7)\r\n",
      "Requirement already satisfied: urllib3<3,>=1.21.1 in /opt/conda/lib/python3.10/site-packages (from requests->transformers) (1.26.18)\r\n",
      "Requirement already satisfied: certifi>=2017.4.17 in /opt/conda/lib/python3.10/site-packages (from requests->transformers) (2024.6.2)\r\n",
      "Requirement already satisfied: MarkupSafe>=2.0 in /opt/conda/lib/python3.10/site-packages (from jinja2->torch) (2.1.5)\r\n",
      "Requirement already satisfied: python-dateutil>=2.8.2 in /opt/conda/lib/python3.10/site-packages (from pandas->datasets) (2.9.0.post0)\r\n",
      "Requirement already satisfied: pytz>=2020.1 in /opt/conda/lib/python3.10/site-packages (from pandas->datasets) (2024.1)\r\n",
      "Requirement already satisfied: tzdata>=2022.7 in /opt/conda/lib/python3.10/site-packages (from pandas->datasets) (2024.1)\r\n",
      "Requirement already satisfied: mpmath<1.4,>=1.1.0 in /opt/conda/lib/python3.10/site-packages (from sympy->torch) (1.3.0)\r\n",
      "Requirement already satisfied: six>=1.5 in /opt/conda/lib/python3.10/site-packages (from python-dateutil>=2.8.2->pandas->datasets) (1.16.0)\r\n"
     ]
    }
   ],
   "source": [
    "!pip install transformers datasets scikit-learn torch"
   ]
  },
  {
   "cell_type": "code",
   "execution_count": 2,
   "id": "b8254126",
   "metadata": {
    "_cell_guid": "d2ac8e62-e92c-4e58-88c7-1048ac0edc62",
    "_uuid": "628b8544-82f7-44bf-a24e-2e86c06511ce",
    "collapsed": false,
    "execution": {
     "iopub.execute_input": "2024-12-22T02:49:46.608276Z",
     "iopub.status.busy": "2024-12-22T02:49:46.607477Z",
     "iopub.status.idle": "2024-12-22T02:50:08.319936Z",
     "shell.execute_reply": "2024-12-22T02:50:08.319219Z"
    },
    "jupyter": {
     "outputs_hidden": false
    },
    "papermill": {
     "duration": 21.722447,
     "end_time": "2024-12-22T02:50:08.322375",
     "exception": false,
     "start_time": "2024-12-22T02:49:46.599928",
     "status": "completed"
    },
    "tags": []
   },
   "outputs": [],
   "source": [
    "import pandas as pd\n",
    "import random,time,csv\n",
    "import numpy as np\n",
    "import math, copy, os\n",
    "import matplotlib.pyplot as plt\n",
    "import pandas as pd\n",
    "import torch\n",
    "import wandb\n",
    "from sklearn.model_selection import train_test_split\n",
    "from transformers import AutoTokenizer, AutoModelForSequenceClassification, TrainingArguments, Trainer\n",
    "from datasets import Dataset\n",
    "from sklearn.metrics import accuracy_score, precision_recall_fscore_support\n",
    "from kaggle_secrets import UserSecretsClient\n",
    "from sklearn import preprocessing\n",
    "from imblearn.over_sampling import SMOTE"
   ]
  },
  {
   "cell_type": "markdown",
   "id": "e69df514",
   "metadata": {
    "_cell_guid": "17d3d093-d77d-4747-8ca0-5eedc84b0554",
    "_uuid": "53655757-3a13-4e75-b289-f5f32d9ddb7f",
    "collapsed": false,
    "jupyter": {
     "outputs_hidden": false
    },
    "papermill": {
     "duration": 0.005844,
     "end_time": "2024-12-22T02:50:08.334816",
     "exception": false,
     "start_time": "2024-12-22T02:50:08.328972",
     "status": "completed"
    },
    "tags": []
   },
   "source": [
    "### 1.2. Adult Census Income Dataset"
   ]
  },
  {
   "cell_type": "code",
   "execution_count": 3,
   "id": "35a3263e",
   "metadata": {
    "_cell_guid": "5336fc04-a1f4-4ef4-ba1e-134d7af09f10",
    "_uuid": "c8ec00d6-3974-404e-882e-2ab2f00f86a7",
    "collapsed": false,
    "execution": {
     "iopub.execute_input": "2024-12-22T02:50:08.347996Z",
     "iopub.status.busy": "2024-12-22T02:50:08.347330Z",
     "iopub.status.idle": "2024-12-22T02:50:08.539238Z",
     "shell.execute_reply": "2024-12-22T02:50:08.538535Z"
    },
    "jupyter": {
     "outputs_hidden": false
    },
    "papermill": {
     "duration": 0.200719,
     "end_time": "2024-12-22T02:50:08.541326",
     "exception": false,
     "start_time": "2024-12-22T02:50:08.340607",
     "status": "completed"
    },
    "tags": []
   },
   "outputs": [],
   "source": [
    "adult_df = pd.read_csv('/kaggle/input/nlp-project-data-raw/data/adult.data.csv')\n",
    "adult_df = adult_df.dropna()\n",
    "adult_df['sex'] = np.where(adult_df['sex'] == ' Male', 1, 0)\n",
    "adult_df['race'] = np.where(adult_df['race'] != ' White', 0, 1)\n",
    "adult_df['Probability'] = np.where(adult_df['Probability'] == ' <=50K', 0, 1)"
   ]
  },
  {
   "cell_type": "markdown",
   "id": "f018a385",
   "metadata": {
    "_cell_guid": "237e0056-cea0-4812-973b-c5bf21503136",
    "_uuid": "4f05fa06-aebf-4b10-b53c-71806da7a978",
    "collapsed": false,
    "jupyter": {
     "outputs_hidden": false
    },
    "papermill": {
     "duration": 0.005838,
     "end_time": "2024-12-22T02:50:08.555038",
     "exception": false,
     "start_time": "2024-12-22T02:50:08.549200",
     "status": "completed"
    },
    "tags": []
   },
   "source": [
    "### 1.3. German Credit Dataset"
   ]
  },
  {
   "cell_type": "code",
   "execution_count": 4,
   "id": "7e31691d",
   "metadata": {
    "_cell_guid": "d17e4fbb-3f96-4764-a196-b981c374498d",
    "_uuid": "af94e5f3-3923-4c44-82b7-28d2c3333617",
    "collapsed": false,
    "execution": {
     "iopub.execute_input": "2024-12-22T02:50:08.568330Z",
     "iopub.status.busy": "2024-12-22T02:50:08.567788Z",
     "iopub.status.idle": "2024-12-22T02:50:08.583419Z",
     "shell.execute_reply": "2024-12-22T02:50:08.582468Z"
    },
    "jupyter": {
     "outputs_hidden": false
    },
    "papermill": {
     "duration": 0.02442,
     "end_time": "2024-12-22T02:50:08.585349",
     "exception": false,
     "start_time": "2024-12-22T02:50:08.560929",
     "status": "completed"
    },
    "tags": []
   },
   "outputs": [],
   "source": [
    "german_df = pd.read_csv('/kaggle/input/nlp-project-data-raw/data/GermanData.csv')\n",
    "german_df['Probability'] = np.where(german_df['Probability'] == 2, 0,1)\n",
    "german_df['sex'] = np.where(german_df['sex'] == 'A91', 1, german_df['sex'])\n",
    "german_df['sex'] = np.where(german_df['sex'] == 'A92', 0, german_df['sex'])\n",
    "german_df['sex'] = np.where(german_df['sex'] == 'A93', 1, german_df['sex'])\n",
    "german_df['sex'] = np.where(german_df['sex'] == 'A94', 1, german_df['sex'])\n",
    "german_df['sex'] = np.where(german_df['sex'] == 'A95', 0, german_df['sex'])"
   ]
  },
  {
   "cell_type": "markdown",
   "id": "7645970f",
   "metadata": {
    "_cell_guid": "4cad81f2-be73-4542-8ca9-13b85042cc0c",
    "_uuid": "ba3f0f43-1e1f-4814-aac9-b038ccc55039",
    "collapsed": false,
    "jupyter": {
     "outputs_hidden": false
    },
    "papermill": {
     "duration": 0.005549,
     "end_time": "2024-12-22T02:50:08.596920",
     "exception": false,
     "start_time": "2024-12-22T02:50:08.591371",
     "status": "completed"
    },
    "tags": []
   },
   "source": [
    "### 1.4. Default Credit Dataset"
   ]
  },
  {
   "cell_type": "code",
   "execution_count": 5,
   "id": "1941b66a",
   "metadata": {
    "_cell_guid": "a8bf89d7-e465-4730-b6fc-b393b1d44ab2",
    "_uuid": "1da03d1a-ee72-4dd1-8841-5b3c84298b4d",
    "collapsed": false,
    "execution": {
     "iopub.execute_input": "2024-12-22T02:50:08.609958Z",
     "iopub.status.busy": "2024-12-22T02:50:08.609647Z",
     "iopub.status.idle": "2024-12-22T02:50:08.763831Z",
     "shell.execute_reply": "2024-12-22T02:50:08.763038Z"
    },
    "jupyter": {
     "outputs_hidden": false
    },
    "papermill": {
     "duration": 0.163039,
     "end_time": "2024-12-22T02:50:08.765858",
     "exception": false,
     "start_time": "2024-12-22T02:50:08.602819",
     "status": "completed"
    },
    "tags": []
   },
   "outputs": [],
   "source": [
    "default_df = pd.read_csv('/kaggle/input/nlp-project-data-raw/data/default_of_credit_card_clients.csv', header=0)\n",
    "default_df.columns = default_df.iloc[0]\n",
    "default_df = default_df[1:]\n",
    "default_df['sex'] = np.where(default_df['SEX'] == '2', 0, 1)"
   ]
  },
  {
   "cell_type": "markdown",
   "id": "b9c6424f",
   "metadata": {
    "_cell_guid": "24ec5fb4-059f-4fd7-bcfe-bdbcad1a820b",
    "_uuid": "dcd33c52-350b-4f52-9a94-6ab39ac1a0e5",
    "collapsed": false,
    "jupyter": {
     "outputs_hidden": false
    },
    "papermill": {
     "duration": 0.005898,
     "end_time": "2024-12-22T02:50:08.778090",
     "exception": false,
     "start_time": "2024-12-22T02:50:08.772192",
     "status": "completed"
    },
    "tags": []
   },
   "source": [
    "### 1.5. Bank Marketing Dataset"
   ]
  },
  {
   "cell_type": "code",
   "execution_count": 6,
   "id": "8bb5c51c",
   "metadata": {
    "_cell_guid": "a7928955-33ee-43e9-88bb-85024f3962dd",
    "_uuid": "fed7c884-bb2f-4103-9baf-d95eb9891026",
    "collapsed": false,
    "execution": {
     "iopub.execute_input": "2024-12-22T02:50:08.791873Z",
     "iopub.status.busy": "2024-12-22T02:50:08.791066Z",
     "iopub.status.idle": "2024-12-22T02:50:08.827343Z",
     "shell.execute_reply": "2024-12-22T02:50:08.826598Z"
    },
    "jupyter": {
     "outputs_hidden": false
    },
    "papermill": {
     "duration": 0.045246,
     "end_time": "2024-12-22T02:50:08.829306",
     "exception": false,
     "start_time": "2024-12-22T02:50:08.784060",
     "status": "completed"
    },
    "tags": []
   },
   "outputs": [],
   "source": [
    "bank_df = pd.read_csv('/kaggle/input/nlp-project-data-raw/data/bank.csv')\n",
    "bank_df['Probability'] = np.where(bank_df['Probability'] == 'yes', 1, 0)\n",
    "mean = bank_df.loc[:,\"age\"].mean()\n",
    "bank_df['age'] = np.where(bank_df['age'] >= 30, 1, 0)"
   ]
  },
  {
   "cell_type": "markdown",
   "id": "05173636",
   "metadata": {
    "_cell_guid": "5bdb4043-5e03-46e3-a93d-9dc73f9fed1e",
    "_uuid": "b8776d95-412b-437e-b52a-8469465ce655",
    "collapsed": false,
    "jupyter": {
     "outputs_hidden": false
    },
    "papermill": {
     "duration": 0.005824,
     "end_time": "2024-12-22T02:50:08.841200",
     "exception": false,
     "start_time": "2024-12-22T02:50:08.835376",
     "status": "completed"
    },
    "tags": []
   },
   "source": [
    "### 1.6. Medical Expediture Dataset 1"
   ]
  },
  {
   "cell_type": "code",
   "execution_count": 7,
   "id": "403b5e37",
   "metadata": {
    "_cell_guid": "4ad9beec-da74-4abe-a298-9748ce0b0460",
    "_uuid": "6effe9a2-6b06-4ef1-a343-d906bd066666",
    "collapsed": false,
    "execution": {
     "iopub.execute_input": "2024-12-22T02:50:08.854536Z",
     "iopub.status.busy": "2024-12-22T02:50:08.853882Z",
     "iopub.status.idle": "2024-12-22T02:50:18.085920Z",
     "shell.execute_reply": "2024-12-22T02:50:18.085189Z"
    },
    "jupyter": {
     "outputs_hidden": false
    },
    "papermill": {
     "duration": 9.241169,
     "end_time": "2024-12-22T02:50:18.088230",
     "exception": false,
     "start_time": "2024-12-22T02:50:08.847061",
     "status": "completed"
    },
    "tags": []
   },
   "outputs": [],
   "source": [
    "MEPS15 = pd.read_csv('/kaggle/input/medical-expediture-meps-1-2/h181.csv')\n",
    "MEPS15 = MEPS15.dropna()\n",
    "MEPS15 = MEPS15.rename(columns = {'FTSTU53X' : 'FTSTU', 'ACTDTY53' : 'ACTDTY', 'HONRDC53' : 'HONRDC', 'RTHLTH53' : 'RTHLTH',\n",
    "                              'MNHLTH53' : 'MNHLTH', 'CHBRON53' : 'CHBRON', 'JTPAIN53' : 'JTPAIN', 'PREGNT53' : 'PREGNT',\n",
    "                              'WLKLIM53' : 'WLKLIM', 'ACTLIM53' : 'ACTLIM', 'SOCLIM53' : 'SOCLIM', 'COGLIM53' : 'COGLIM',\n",
    "                              'EMPST53' : 'EMPST', 'REGION53' : 'REGION', 'MARRY53X' : 'MARRY', 'AGE53X' : 'AGE',\n",
    "                              'POVCAT15' : 'POVCAT', 'INSCOV15' : 'INSCOV'})\n",
    "MEPS15 = MEPS15[MEPS15['PANEL'] == 20]\n",
    "MEPS15 = MEPS15[MEPS15['REGION'] >= 0] # remove values -1\n",
    "MEPS15 = MEPS15[MEPS15['AGE'] >= 0] # remove values -1\n",
    "MEPS15 = MEPS15[MEPS15['MARRY'] >= 0] # remove values -1, -7, -8, -9\n",
    "MEPS15 = MEPS15[MEPS15['ASTHDX'] >= 0] # remove values -1, -7, -8, -9\n",
    "MEPS15 = MEPS15[(MEPS15[['FTSTU','ACTDTY','HONRDC','RTHLTH','MNHLTH','HIBPDX','CHDDX','ANGIDX','EDUCYR','HIDEG',\n",
    "                             'MIDX','OHRTDX','STRKDX','EMPHDX','CHBRON','CHOLDX','CANCERDX','DIABDX',\n",
    "                             'JTPAIN','ARTHDX','ARTHTYPE','ASTHDX','ADHDADDX','PREGNT','WLKLIM',\n",
    "                             'ACTLIM','SOCLIM','COGLIM','DFHEAR42','DFSEE42','ADSMOK42',\n",
    "                             'PHQ242','EMPST','POVCAT','INSCOV']] >= -1).all(1)]\n",
    "MEPS15['RACEV2X'] = np.where((MEPS15['HISPANX'] == 2 ) & (MEPS15['RACEV2X'] == 1), 1, MEPS15['RACEV2X'])\n",
    "MEPS15['RACEV2X'] = np.where(MEPS15['RACEV2X'] != 1 , 0, MEPS15['RACEV2X'])\n",
    "MEPS15 = MEPS15.rename(columns={\"RACEV2X\" : \"RACE\"})\n",
    "def utilization(row):\n",
    "        return row['OBTOTV15'] + row['OPTOTV15'] + row['ERTOT15'] + row['IPNGTD15'] + row['HHTOTD15']\n",
    "MEPS15['TOTEXP15'] = MEPS15.apply(lambda row: utilization(row), axis=1)\n",
    "lessE = MEPS15['TOTEXP15'] < 10.0\n",
    "MEPS15.loc[lessE,'TOTEXP15'] = 0.0\n",
    "moreE = MEPS15['TOTEXP15'] >= 10.0\n",
    "MEPS15.loc[moreE,'TOTEXP15'] = 1.0\n",
    "MEPS15 = MEPS15.rename(columns = {'TOTEXP15' : 'UTILIZATION'})\n",
    "MEPS15 = MEPS15[['REGION','AGE','SEX','RACE','MARRY',\n",
    "                                 'FTSTU','ACTDTY','HONRDC','RTHLTH','MNHLTH','HIBPDX','CHDDX','ANGIDX',\n",
    "                                 'MIDX','OHRTDX','STRKDX','EMPHDX','CHBRON','CHOLDX','CANCERDX','DIABDX',\n",
    "                                 'JTPAIN','ARTHDX','ARTHTYPE','ASTHDX','ADHDADDX','PREGNT','WLKLIM',\n",
    "                                 'ACTLIM','SOCLIM','COGLIM','DFHEAR42','DFSEE42', 'ADSMOK42',\n",
    "                                 'PCS42','MCS42','K6SUM42','PHQ242','EMPST','POVCAT','INSCOV','UTILIZATION', 'PERWT15F']]\n",
    "MEPS15 = MEPS15.rename(columns={\"UTILIZATION\": \"Probability\",\"RACE\" : \"race\"})"
   ]
  },
  {
   "cell_type": "markdown",
   "id": "13a5e0e1",
   "metadata": {
    "_cell_guid": "59b467fa-32d2-4a8f-b48b-3f3e7a152a04",
    "_uuid": "87566997-4743-4b59-aa55-31b1ec015548",
    "collapsed": false,
    "jupyter": {
     "outputs_hidden": false
    },
    "papermill": {
     "duration": 0.005798,
     "end_time": "2024-12-22T02:50:18.100508",
     "exception": false,
     "start_time": "2024-12-22T02:50:18.094710",
     "status": "completed"
    },
    "tags": []
   },
   "source": [
    "### 1.7. Medical Expediture Dataset 2"
   ]
  },
  {
   "cell_type": "code",
   "execution_count": 8,
   "id": "29a165fc",
   "metadata": {
    "_cell_guid": "ff2da81b-cc22-4be9-b8d7-ae38a466fdf9",
    "_uuid": "db3e9776-815a-4ae5-9b59-b01a43fb5a9c",
    "collapsed": false,
    "execution": {
     "iopub.execute_input": "2024-12-22T02:50:18.114078Z",
     "iopub.status.busy": "2024-12-22T02:50:18.113768Z",
     "iopub.status.idle": "2024-12-22T02:50:29.246660Z",
     "shell.execute_reply": "2024-12-22T02:50:29.245681Z"
    },
    "jupyter": {
     "outputs_hidden": false
    },
    "papermill": {
     "duration": 11.142302,
     "end_time": "2024-12-22T02:50:29.248909",
     "exception": false,
     "start_time": "2024-12-22T02:50:18.106607",
     "status": "completed"
    },
    "tags": []
   },
   "outputs": [],
   "source": [
    "MEPS16 = pd.read_csv('/kaggle/input/medical-expediture-meps-1-2/h192.csv')\n",
    "MEPS16 = MEPS16.dropna()\n",
    "MEPS16 = MEPS16.rename(columns = {'FTSTU53X' : 'FTSTU', 'ACTDTY53' : 'ACTDTY', 'HONRDC53' : 'HONRDC', 'RTHLTH53' : 'RTHLTH',\n",
    "                              'MNHLTH53' : 'MNHLTH', 'CHBRON53' : 'CHBRON', 'JTPAIN53' : 'JTPAIN', 'PREGNT53' : 'PREGNT',\n",
    "                              'WLKLIM53' : 'WLKLIM', 'ACTLIM53' : 'ACTLIM', 'SOCLIM53' : 'SOCLIM', 'COGLIM53' : 'COGLIM',\n",
    "                              'EMPST53' : 'EMPST', 'REGION53' : 'REGION', 'MARRY53X' : 'MARRY', 'AGE53X' : 'AGE',\n",
    "                              'POVCAT16' : 'POVCAT', 'INSCOV16' : 'INSCOV'})\n",
    "MEPS16 = MEPS16[MEPS16['PANEL'] == 21]\n",
    "MEPS16 = MEPS16[MEPS16['REGION'] >= 0] # remove values -1\n",
    "MEPS16 = MEPS16[MEPS16['AGE'] >= 0] # remove values -1\n",
    "MEPS16 = MEPS16[MEPS16['MARRY'] >= 0] # remove values -1, -7, -8, -9\n",
    "MEPS16 = MEPS16[MEPS16['ASTHDX'] >= 0] # remove values -1, -7, -8, -9\n",
    "MEPS16 = MEPS16[(MEPS16[['FTSTU','ACTDTY','HONRDC','RTHLTH','MNHLTH','HIBPDX','CHDDX','ANGIDX','EDUCYR','HIDEG',\n",
    "                         'MIDX','OHRTDX','STRKDX','EMPHDX','CHBRON','CHOLDX','CANCERDX','DIABDX',\n",
    "                         'JTPAIN','ARTHDX','ARTHTYPE','ASTHDX','ADHDADDX','PREGNT','WLKLIM',\n",
    "                         'ACTLIM','SOCLIM','COGLIM','DFHEAR42','DFSEE42','ADSMOK42',\n",
    "                         'PHQ242','EMPST','POVCAT','INSCOV']] >= -1).all(1)]\n",
    "MEPS16['RACEV2X'] = np.where((MEPS16['HISPANX'] == 2 ) & (MEPS16['RACEV2X'] == 1), 1, MEPS16['RACEV2X'])\n",
    "MEPS16['RACEV2X'] = np.where(MEPS16['RACEV2X'] != 1 , 0, MEPS16['RACEV2X'])\n",
    "MEPS16 = MEPS16.rename(columns={\"RACEV2X\" : \"RACE\"})\n",
    "# MEPS16['UTILIZATION'] = np.where(MEPS16['UTILIZATION'] >= 10, 1, 0)\n",
    "\n",
    "def utilization(row):\n",
    "        return row['OBTOTV16'] + row['OPTOTV16'] + row['ERTOT16'] + row['IPNGTD16'] + row['HHTOTD16']\n",
    "\n",
    "MEPS16['TOTEXP16'] = MEPS16.apply(lambda row: utilization(row), axis=1)\n",
    "lessE = MEPS16['TOTEXP16'] < 10.0\n",
    "MEPS16.loc[lessE,'TOTEXP16'] = 0.0\n",
    "moreE = MEPS16['TOTEXP16'] >= 10.0\n",
    "MEPS16.loc[moreE,'TOTEXP16'] = 1.0\n",
    "\n",
    "MEPS16 = MEPS16.rename(columns = {'TOTEXP16' : 'UTILIZATION'})\n",
    "\n",
    "MEPS16 = MEPS16[['REGION','AGE','SEX','RACE','MARRY',\n",
    "                                 'FTSTU','ACTDTY','HONRDC','RTHLTH','MNHLTH','HIBPDX','CHDDX','ANGIDX',\n",
    "                                 'MIDX','OHRTDX','STRKDX','EMPHDX','CHBRON','CHOLDX','CANCERDX','DIABDX',\n",
    "                                 'JTPAIN','ARTHDX','ARTHTYPE','ASTHDX','ADHDADDX','PREGNT','WLKLIM',\n",
    "                                 'ACTLIM','SOCLIM','COGLIM','DFHEAR42','DFSEE42', 'ADSMOK42',\n",
    "                                 'PCS42','MCS42','K6SUM42','PHQ242','EMPST','POVCAT','INSCOV','UTILIZATION', 'PERWT16F']]\n",
    "\n",
    "MEPS16 = MEPS16.rename(columns={\"UTILIZATION\": \"Probability\",\"RACE\" : \"race\"})\n",
    "protected_attribute = 'race'"
   ]
  },
  {
   "cell_type": "markdown",
   "id": "86d5ba32",
   "metadata": {
    "_cell_guid": "afa1376f-fc84-4202-a52a-829fd5dd3838",
    "_uuid": "9bec8587-8f75-4d3a-8ba7-222ce54b36af",
    "collapsed": false,
    "jupyter": {
     "outputs_hidden": false
    },
    "papermill": {
     "duration": 0.005834,
     "end_time": "2024-12-22T02:50:29.261074",
     "exception": false,
     "start_time": "2024-12-22T02:50:29.255240",
     "status": "completed"
    },
    "tags": []
   },
   "source": [
    "## **2. Train-Test Splits for Each Dataset**"
   ]
  },
  {
   "cell_type": "code",
   "execution_count": 9,
   "id": "3243870d",
   "metadata": {
    "_cell_guid": "5f9c4839-98c2-46a9-9915-a39884f7ff65",
    "_uuid": "b8072922-43da-4161-bab1-6dd4a30aff22",
    "collapsed": false,
    "execution": {
     "iopub.execute_input": "2024-12-22T02:50:29.274530Z",
     "iopub.status.busy": "2024-12-22T02:50:29.274190Z",
     "iopub.status.idle": "2024-12-22T02:50:29.378571Z",
     "shell.execute_reply": "2024-12-22T02:50:29.377866Z"
    },
    "jupyter": {
     "outputs_hidden": false
    },
    "papermill": {
     "duration": 0.113657,
     "end_time": "2024-12-22T02:50:29.380731",
     "exception": false,
     "start_time": "2024-12-22T02:50:29.267074",
     "status": "completed"
    },
    "tags": []
   },
   "outputs": [],
   "source": [
    "# A helper function to split data into train and test sets\n",
    "def split_data(df, target, test_size=0.3, random_state=42, stratify=True):\n",
    "    if target not in df.columns:\n",
    "        raise ValueError(f\"Target column '{target}' not found in DataFrame.\")\n",
    "    X = df.drop(columns=[target])\n",
    "    y = df[target]\n",
    "    if stratify:\n",
    "        X_train, X_test, y_train, y_test = train_test_split(\n",
    "            X, y, test_size=test_size, random_state=random_state, stratify=y\n",
    "        )\n",
    "    else:\n",
    "        X_train, X_test, y_train, y_test = train_test_split(\n",
    "            X, y, test_size=test_size, random_state=random_state\n",
    "        )\n",
    "    return X_train, X_test, y_train, y_test\n",
    "\n",
    "# Adult Census Income Dataset\n",
    "X_train_adult, X_test_adult, y_train_adult, y_test_adult = split_data(adult_df, target=\"Probability\")\n",
    "\n",
    "# German Credit Dataset\n",
    "X_train_german, X_test_german, y_train_german, y_test_german = split_data(german_df, target=\"Probability\")\n",
    "\n",
    "# Default Credit Dataset (ensure target column exists)\n",
    "default_df.rename(columns={\"default payment next month\": \"Probability\"}, inplace=True)\n",
    "X_train_default, X_test_default, y_train_default, y_test_default = split_data(default_df, target=\"Probability\")\n",
    "\n",
    "# Bank Marketing Dataset\n",
    "X_train_bank, X_test_bank, y_train_bank, y_test_bank = split_data(bank_df, target=\"Probability\")\n",
    "\n",
    "# MEPS15 Dataset\n",
    "X_train_meps15, X_test_meps15, y_train_meps15, y_test_meps15 = split_data(MEPS15, target=\"Probability\")\n",
    "\n",
    "# MEPS16 Dataset\n",
    "X_train_meps16, X_test_meps16, y_train_meps16, y_test_meps16 = split_data(MEPS16, target=\"Probability\")"
   ]
  },
  {
   "cell_type": "markdown",
   "id": "95439fe2",
   "metadata": {
    "_cell_guid": "f780f839-b38f-4c80-8164-3bb311199b12",
    "_uuid": "9324b22c-7812-411d-8091-14c21ec53267",
    "collapsed": false,
    "jupyter": {
     "outputs_hidden": false
    },
    "papermill": {
     "duration": 0.005819,
     "end_time": "2024-12-22T02:50:29.392963",
     "exception": false,
     "start_time": "2024-12-22T02:50:29.387144",
     "status": "completed"
    },
    "tags": []
   },
   "source": [
    "## **3. Applying SMOTE to Each Dataset**"
   ]
  },
  {
   "cell_type": "code",
   "execution_count": 10,
   "id": "e0cc7f21",
   "metadata": {
    "_cell_guid": "c6b94bab-228e-4bef-a396-0a7a9975c482",
    "_uuid": "43f8fed3-0de7-4ed9-af36-56022bd60b8c",
    "collapsed": false,
    "execution": {
     "iopub.execute_input": "2024-12-22T02:50:29.405795Z",
     "iopub.status.busy": "2024-12-22T02:50:29.405473Z",
     "iopub.status.idle": "2024-12-22T02:50:29.409274Z",
     "shell.execute_reply": "2024-12-22T02:50:29.408509Z"
    },
    "jupyter": {
     "outputs_hidden": false
    },
    "papermill": {
     "duration": 0.012128,
     "end_time": "2024-12-22T02:50:29.410864",
     "exception": false,
     "start_time": "2024-12-22T02:50:29.398736",
     "status": "completed"
    },
    "tags": []
   },
   "outputs": [],
   "source": [
    "# Apply SMOTE\n",
    "smote = SMOTE(random_state=42)"
   ]
  },
  {
   "cell_type": "code",
   "execution_count": 11,
   "id": "b8874123",
   "metadata": {
    "_cell_guid": "42d169ee-4235-4bb3-b25a-0bbff2b91090",
    "_uuid": "e7a3c613-72b7-42d1-a407-de5154e956ac",
    "collapsed": false,
    "execution": {
     "iopub.execute_input": "2024-12-22T02:50:29.423854Z",
     "iopub.status.busy": "2024-12-22T02:50:29.423584Z",
     "iopub.status.idle": "2024-12-22T02:50:29.502715Z",
     "shell.execute_reply": "2024-12-22T02:50:29.501938Z"
    },
    "jupyter": {
     "outputs_hidden": false
    },
    "papermill": {
     "duration": 0.087893,
     "end_time": "2024-12-22T02:50:29.504672",
     "exception": false,
     "start_time": "2024-12-22T02:50:29.416779",
     "status": "completed"
    },
    "tags": []
   },
   "outputs": [],
   "source": [
    "# Note: MEPS15, MEPS16 and Default Credit Datasets did not need encoding for SMOTE as they are already numerical.\n",
    "\n",
    "# Encoding the X_train and X_test to prepare Adult Dataset for SMOTE\n",
    "X_train_adult = pd.get_dummies(X_train_adult, drop_first=True)\n",
    "X_test_adult = pd.get_dummies(X_test_adult, drop_first=True)\n",
    "\n",
    "# Encoding the X_train and X_test to prepare German Dataset for SMOTE\n",
    "X_train_german = pd.get_dummies(X_train_german, drop_first=True)\n",
    "X_test_german = pd.get_dummies(X_test_german, drop_first=True)\n",
    "\n",
    "# Encoding the X_train and X_test to prepare Bank Dataset for SMOTE\n",
    "X_train_bank = pd.get_dummies(X_train_bank, drop_first=True)\n",
    "X_test_bank = pd.get_dummies(X_test_bank, drop_first=True)\n",
    "\n",
    "# After encoding X_train_adult and X_test_adult, do:\n",
    "X_test_adult = X_test_adult.reindex(columns=X_train_adult.columns, fill_value=0)\n",
    "\n",
    "# Similarly, for the German dataset:\n",
    "X_test_german = X_test_german.reindex(columns=X_train_german.columns, fill_value=0)\n",
    "\n",
    "# Similarly, for the Bank dataset:\n",
    "X_test_bank = X_test_bank.reindex(columns=X_train_bank.columns, fill_value=0)"
   ]
  },
  {
   "cell_type": "code",
   "execution_count": 12,
   "id": "59482d53",
   "metadata": {
    "_cell_guid": "74e60902-c589-452f-bc7b-90abd76fafe0",
    "_uuid": "effd02b2-4ad8-4b86-a1eb-db0b9f00b15f",
    "collapsed": false,
    "execution": {
     "iopub.execute_input": "2024-12-22T02:50:29.517834Z",
     "iopub.status.busy": "2024-12-22T02:50:29.517516Z",
     "iopub.status.idle": "2024-12-22T02:50:31.027800Z",
     "shell.execute_reply": "2024-12-22T02:50:31.027046Z"
    },
    "jupyter": {
     "outputs_hidden": false
    },
    "papermill": {
     "duration": 1.51922,
     "end_time": "2024-12-22T02:50:31.030019",
     "exception": false,
     "start_time": "2024-12-22T02:50:29.510799",
     "status": "completed"
    },
    "tags": []
   },
   "outputs": [],
   "source": [
    "# Adult Census Income Dataset with SMOTE\n",
    "X_train_adult, y_train_adult = smote.fit_resample(X_train_adult, y_train_adult)"
   ]
  },
  {
   "cell_type": "code",
   "execution_count": 13,
   "id": "eeafa5a9",
   "metadata": {
    "_cell_guid": "ac478cfa-17ce-4bbd-a7d0-4ebacd512f6b",
    "_uuid": "5d1ef745-dd5f-4c95-886b-5c95a971298c",
    "collapsed": false,
    "execution": {
     "iopub.execute_input": "2024-12-22T02:50:31.043381Z",
     "iopub.status.busy": "2024-12-22T02:50:31.043067Z",
     "iopub.status.idle": "2024-12-22T02:50:31.059101Z",
     "shell.execute_reply": "2024-12-22T02:50:31.058395Z"
    },
    "jupyter": {
     "outputs_hidden": false
    },
    "papermill": {
     "duration": 0.024828,
     "end_time": "2024-12-22T02:50:31.060922",
     "exception": false,
     "start_time": "2024-12-22T02:50:31.036094",
     "status": "completed"
    },
    "tags": []
   },
   "outputs": [],
   "source": [
    "# German Credit Dataset with SMOTE\n",
    "X_train_german, y_train_german = smote.fit_resample(X_train_german, y_train_german)"
   ]
  },
  {
   "cell_type": "code",
   "execution_count": 14,
   "id": "09d73106",
   "metadata": {
    "_cell_guid": "6266e1f5-cf57-4bc8-bf3e-0f9f9f58d9da",
    "_uuid": "e8048420-e5c3-4342-b543-39a3a2012177",
    "collapsed": false,
    "execution": {
     "iopub.execute_input": "2024-12-22T02:50:31.074992Z",
     "iopub.status.busy": "2024-12-22T02:50:31.074700Z",
     "iopub.status.idle": "2024-12-22T02:50:31.324922Z",
     "shell.execute_reply": "2024-12-22T02:50:31.323914Z"
    },
    "jupyter": {
     "outputs_hidden": false
    },
    "papermill": {
     "duration": 0.259573,
     "end_time": "2024-12-22T02:50:31.327141",
     "exception": false,
     "start_time": "2024-12-22T02:50:31.067568",
     "status": "completed"
    },
    "tags": []
   },
   "outputs": [],
   "source": [
    "# Default Credit Dataset with SMOTE\n",
    "X_train_default, y_train_default = smote.fit_resample(X_train_default, y_train_default)"
   ]
  },
  {
   "cell_type": "code",
   "execution_count": 15,
   "id": "9f04a7bd",
   "metadata": {
    "_cell_guid": "d179812d-1b18-4014-b4e0-26358831d646",
    "_uuid": "3631f1b8-3d83-4f4d-a93c-ccfa3829514e",
    "collapsed": false,
    "execution": {
     "iopub.execute_input": "2024-12-22T02:50:31.340920Z",
     "iopub.status.busy": "2024-12-22T02:50:31.340612Z",
     "iopub.status.idle": "2024-12-22T02:50:31.749299Z",
     "shell.execute_reply": "2024-12-22T02:50:31.748196Z"
    },
    "jupyter": {
     "outputs_hidden": false
    },
    "papermill": {
     "duration": 0.417958,
     "end_time": "2024-12-22T02:50:31.751459",
     "exception": false,
     "start_time": "2024-12-22T02:50:31.333501",
     "status": "completed"
    },
    "tags": []
   },
   "outputs": [],
   "source": [
    "# Bank Marketing Dataset with SMOTE\n",
    "X_train_bank, y_train_bank = smote.fit_resample(X_train_bank, y_train_bank)"
   ]
  },
  {
   "cell_type": "code",
   "execution_count": 16,
   "id": "78406825",
   "metadata": {
    "_cell_guid": "be7a07f4-097b-4762-8c6c-5c675ca73d46",
    "_uuid": "ea5419d9-a4a8-4e3b-905f-04dff7b14c8b",
    "collapsed": false,
    "execution": {
     "iopub.execute_input": "2024-12-22T02:50:31.765351Z",
     "iopub.status.busy": "2024-12-22T02:50:31.764715Z",
     "iopub.status.idle": "2024-12-22T02:50:31.814017Z",
     "shell.execute_reply": "2024-12-22T02:50:31.813030Z"
    },
    "jupyter": {
     "outputs_hidden": false
    },
    "papermill": {
     "duration": 0.058889,
     "end_time": "2024-12-22T02:50:31.816582",
     "exception": false,
     "start_time": "2024-12-22T02:50:31.757693",
     "status": "completed"
    },
    "tags": []
   },
   "outputs": [],
   "source": [
    "# MEPS15 Dataset with SMOTE\n",
    "X_train_meps15, y_train_meps15 = smote.fit_resample(X_train_meps15, y_train_meps15)"
   ]
  },
  {
   "cell_type": "code",
   "execution_count": 17,
   "id": "57a4cf31",
   "metadata": {
    "_cell_guid": "08aa1849-b9c5-4c98-bafb-5e8af640f135",
    "_uuid": "e9cc788c-df26-4bef-be6f-9e4bbc7ffaf7",
    "collapsed": false,
    "execution": {
     "iopub.execute_input": "2024-12-22T02:50:31.834349Z",
     "iopub.status.busy": "2024-12-22T02:50:31.833678Z",
     "iopub.status.idle": "2024-12-22T02:50:31.878626Z",
     "shell.execute_reply": "2024-12-22T02:50:31.877775Z"
    },
    "jupyter": {
     "outputs_hidden": false
    },
    "papermill": {
     "duration": 0.055249,
     "end_time": "2024-12-22T02:50:31.880834",
     "exception": false,
     "start_time": "2024-12-22T02:50:31.825585",
     "status": "completed"
    },
    "tags": []
   },
   "outputs": [],
   "source": [
    "# MEPS16 Dataset with SMOTE\n",
    "X_train_meps16, y_train_meps16 = smote.fit_resample(X_train_meps16, y_train_meps16)"
   ]
  },
  {
   "cell_type": "code",
   "execution_count": 18,
   "id": "23a2d2dd",
   "metadata": {
    "_cell_guid": "049a61aa-7fbe-4b1c-b243-92cfa59bfd46",
    "_uuid": "b3218363-fb08-4021-a4ad-a1ca6e9b13af",
    "collapsed": false,
    "execution": {
     "iopub.execute_input": "2024-12-22T02:50:31.899332Z",
     "iopub.status.busy": "2024-12-22T02:50:31.898689Z",
     "iopub.status.idle": "2024-12-22T02:50:31.905562Z",
     "shell.execute_reply": "2024-12-22T02:50:31.904727Z"
    },
    "jupyter": {
     "outputs_hidden": false
    },
    "papermill": {
     "duration": 0.017621,
     "end_time": "2024-12-22T02:50:31.907364",
     "exception": false,
     "start_time": "2024-12-22T02:50:31.889743",
     "status": "completed"
    },
    "tags": []
   },
   "outputs": [],
   "source": [
    "import pandas as pd\n",
    "from sklearn.linear_model import LogisticRegression\n",
    "from sklearn.ensemble import RandomForestClassifier\n",
    "from sklearn.svm import SVC\n",
    "from sklearn.metrics import accuracy_score, classification_report\n",
    "from sklearn.model_selection import train_test_split\n",
    "import warnings\n",
    "\n",
    "warnings.filterwarnings(\"ignore\", category=FutureWarning)\n",
    "warnings.filterwarnings(\"ignore\", category=UserWarning)\n",
    "\n",
    "# Place all datasets in a dictionary for convenience\n",
    "datasets = {\n",
    "    \"Adult\": (X_train_adult, X_test_adult, y_train_adult, y_test_adult),\n",
    "    \"German\": (X_train_german, X_test_german, y_train_german, y_test_german),\n",
    "    \"Default\": (X_train_default, X_test_default, y_train_default, y_test_default),\n",
    "    \"Bank\": (X_train_bank, X_test_bank, y_train_bank, y_test_bank),\n",
    "    \"MEPS15\": (X_train_meps15, X_test_meps15, y_train_meps15, y_test_meps15),\n",
    "    \"MEPS16\": (X_train_meps16, X_test_meps16, y_train_meps16, y_test_meps16),\n",
    "}"
   ]
  },
  {
   "cell_type": "code",
   "execution_count": 19,
   "id": "f83c58b6",
   "metadata": {
    "_cell_guid": "9752d22c-f72a-493d-8bef-6f55dedc5887",
    "_uuid": "fab52b9b-7ad1-451f-b462-d6bd0e4645c6",
    "collapsed": false,
    "execution": {
     "iopub.execute_input": "2024-12-22T02:50:31.925691Z",
     "iopub.status.busy": "2024-12-22T02:50:31.925345Z",
     "iopub.status.idle": "2024-12-22T02:50:31.932116Z",
     "shell.execute_reply": "2024-12-22T02:50:31.931398Z"
    },
    "jupyter": {
     "outputs_hidden": false
    },
    "papermill": {
     "duration": 0.017865,
     "end_time": "2024-12-22T02:50:31.933949",
     "exception": false,
     "start_time": "2024-12-22T02:50:31.916084",
     "status": "completed"
    },
    "tags": []
   },
   "outputs": [],
   "source": [
    "def train_and_evaluate_classifiers(X_train, X_test, y_train, y_test, dataset_name):\n",
    "    print(f\"\\n{'='*60}\")\n",
    "    print(f\"DATASET: {dataset_name.upper()}\")\n",
    "    print(f\"{'='*60}\")\n",
    "\n",
    "    # 1. LSR => Logistic Regression\n",
    "    lsr_model = LogisticRegression(\n",
    "        max_iter=50,\n",
    "        random_state=42\n",
    "    )\n",
    "    lsr_model.fit(X_train, y_train)\n",
    "    lsr_preds = lsr_model.predict(X_test)\n",
    "    lsr_accuracy = accuracy_score(y_test, lsr_preds)\n",
    "    print(f\"\\n[LSR - Logistic Regression Results]\")\n",
    "    print(f\"Accuracy: {lsr_accuracy:.4f}\")\n",
    "    print(classification_report(y_test, lsr_preds))\n",
    "    \n",
    "    # 2. RF => Random Forest\n",
    "    rf_model = RandomForestClassifier(\n",
    "        n_estimators=50,  # 50 trees\n",
    "        random_state=42\n",
    "    )\n",
    "    rf_model.fit(X_train, y_train)\n",
    "    rf_preds = rf_model.predict(X_test)\n",
    "    rf_accuracy = accuracy_score(y_test, rf_preds)\n",
    "    print(f\"[RF - Random Forest Results]\")\n",
    "    print(f\"Accuracy: {rf_accuracy:.4f}\")\n",
    "    print(classification_report(y_test, rf_preds))\n",
    "\n",
    "    # 3. SVM => Support Vector Machine\n",
    "    svm_model = SVC(\n",
    "        max_iter=50,\n",
    "        random_state=42\n",
    "    )\n",
    "    svm_model.fit(X_train, y_train)\n",
    "    svm_preds = svm_model.predict(X_test)\n",
    "    svm_accuracy = accuracy_score(y_test, svm_preds)\n",
    "    print(f\"[SVM - Support Vector Machine Results]\")\n",
    "    print(f\"Accuracy: {svm_accuracy:.4f}\")\n",
    "    print(classification_report(y_test, svm_preds))"
   ]
  },
  {
   "cell_type": "code",
   "execution_count": 20,
   "id": "77b32f8d",
   "metadata": {
    "_cell_guid": "4122c3c7-ecaa-48a8-a269-43bbb951ca6e",
    "_uuid": "691f6c06-954a-45a5-a855-2c0080f515e1",
    "collapsed": false,
    "execution": {
     "iopub.execute_input": "2024-12-22T02:50:31.950917Z",
     "iopub.status.busy": "2024-12-22T02:50:31.950144Z",
     "iopub.status.idle": "2024-12-22T02:50:48.033058Z",
     "shell.execute_reply": "2024-12-22T02:50:48.032083Z"
    },
    "jupyter": {
     "outputs_hidden": false
    },
    "papermill": {
     "duration": 16.092709,
     "end_time": "2024-12-22T02:50:48.035141",
     "exception": false,
     "start_time": "2024-12-22T02:50:31.942432",
     "status": "completed"
    },
    "tags": []
   },
   "outputs": [
    {
     "name": "stdout",
     "output_type": "stream",
     "text": [
      "\n",
      "============================================================\n",
      "DATASET: ADULT\n",
      "============================================================\n",
      "\n",
      "[LSR - Logistic Regression Results]\n",
      "Accuracy: 0.6576\n",
      "              precision    recall  f1-score   support\n",
      "\n",
      "           0       0.83      0.70      0.76     11147\n",
      "           1       0.36      0.53      0.43      3506\n",
      "\n",
      "    accuracy                           0.66     14653\n",
      "   macro avg       0.59      0.61      0.59     14653\n",
      "weighted avg       0.71      0.66      0.68     14653\n",
      "\n",
      "[RF - Random Forest Results]\n",
      "Accuracy: 0.8459\n",
      "              precision    recall  f1-score   support\n",
      "\n",
      "           0       0.89      0.91      0.90     11147\n",
      "           1       0.69      0.64      0.66      3506\n",
      "\n",
      "    accuracy                           0.85     14653\n",
      "   macro avg       0.79      0.77      0.78     14653\n",
      "weighted avg       0.84      0.85      0.84     14653\n",
      "\n",
      "[SVM - Support Vector Machine Results]\n",
      "Accuracy: 0.2510\n",
      "              precision    recall  f1-score   support\n",
      "\n",
      "           0       0.61      0.04      0.08     11147\n",
      "           1       0.23      0.91      0.37      3506\n",
      "\n",
      "    accuracy                           0.25     14653\n",
      "   macro avg       0.42      0.48      0.22     14653\n",
      "weighted avg       0.52      0.25      0.15     14653\n",
      "\n",
      "\n",
      "============================================================\n",
      "DATASET: GERMAN\n",
      "============================================================\n",
      "\n",
      "[LSR - Logistic Regression Results]\n",
      "Accuracy: 0.7000\n",
      "              precision    recall  f1-score   support\n",
      "\n",
      "           0       0.50      0.42      0.46        90\n",
      "           1       0.77      0.82      0.79       210\n",
      "\n",
      "    accuracy                           0.70       300\n",
      "   macro avg       0.63      0.62      0.63       300\n",
      "weighted avg       0.69      0.70      0.69       300\n",
      "\n",
      "[RF - Random Forest Results]\n",
      "Accuracy: 0.7133\n",
      "              precision    recall  f1-score   support\n",
      "\n",
      "           0       0.52      0.49      0.51        90\n",
      "           1       0.79      0.81      0.80       210\n",
      "\n",
      "    accuracy                           0.71       300\n",
      "   macro avg       0.66      0.65      0.65       300\n",
      "weighted avg       0.71      0.71      0.71       300\n",
      "\n",
      "[SVM - Support Vector Machine Results]\n",
      "Accuracy: 0.4667\n",
      "              precision    recall  f1-score   support\n",
      "\n",
      "           0       0.32      0.68      0.43        90\n",
      "           1       0.73      0.38      0.50       210\n",
      "\n",
      "    accuracy                           0.47       300\n",
      "   macro avg       0.52      0.53      0.46       300\n",
      "weighted avg       0.61      0.47      0.48       300\n",
      "\n",
      "\n",
      "============================================================\n",
      "DATASET: DEFAULT\n",
      "============================================================\n",
      "\n",
      "[LSR - Logistic Regression Results]\n",
      "Accuracy: 0.5967\n",
      "              precision    recall  f1-score   support\n",
      "\n",
      "           0       0.84      0.59      0.70      7009\n",
      "           1       0.30      0.61      0.40      1991\n",
      "\n",
      "    accuracy                           0.60      9000\n",
      "   macro avg       0.57      0.60      0.55      9000\n",
      "weighted avg       0.72      0.60      0.63      9000\n",
      "\n",
      "[RF - Random Forest Results]\n",
      "Accuracy: 0.8107\n",
      "              precision    recall  f1-score   support\n",
      "\n",
      "           0       0.84      0.93      0.88      7009\n",
      "           1       0.62      0.38      0.47      1991\n",
      "\n",
      "    accuracy                           0.81      9000\n",
      "   macro avg       0.73      0.66      0.68      9000\n",
      "weighted avg       0.79      0.81      0.79      9000\n",
      "\n",
      "[SVM - Support Vector Machine Results]\n",
      "Accuracy: 0.5174\n",
      "              precision    recall  f1-score   support\n",
      "\n",
      "           0       0.74      0.58      0.65      7009\n",
      "           1       0.16      0.29      0.21      1991\n",
      "\n",
      "    accuracy                           0.52      9000\n",
      "   macro avg       0.45      0.43      0.43      9000\n",
      "weighted avg       0.61      0.52      0.55      9000\n",
      "\n",
      "\n",
      "============================================================\n",
      "DATASET: BANK\n",
      "============================================================\n",
      "\n",
      "[LSR - Logistic Regression Results]\n",
      "Accuracy: 0.7883\n",
      "              precision    recall  f1-score   support\n",
      "\n",
      "           0       0.78      0.84      0.81      1762\n",
      "           1       0.80      0.74      0.77      1587\n",
      "\n",
      "    accuracy                           0.79      3349\n",
      "   macro avg       0.79      0.79      0.79      3349\n",
      "weighted avg       0.79      0.79      0.79      3349\n",
      "\n",
      "[RF - Random Forest Results]\n",
      "Accuracy: 0.8525\n",
      "              precision    recall  f1-score   support\n",
      "\n",
      "           0       0.88      0.83      0.86      1762\n",
      "           1       0.82      0.88      0.85      1587\n",
      "\n",
      "    accuracy                           0.85      3349\n",
      "   macro avg       0.85      0.85      0.85      3349\n",
      "weighted avg       0.85      0.85      0.85      3349\n",
      "\n",
      "[SVM - Support Vector Machine Results]\n",
      "Accuracy: 0.4518\n",
      "              precision    recall  f1-score   support\n",
      "\n",
      "           0       0.45      0.19      0.26      1762\n",
      "           1       0.45      0.75      0.56      1587\n",
      "\n",
      "    accuracy                           0.45      3349\n",
      "   macro avg       0.45      0.47      0.41      3349\n",
      "weighted avg       0.45      0.45      0.41      3349\n",
      "\n",
      "\n",
      "============================================================\n",
      "DATASET: MEPS15\n",
      "============================================================\n",
      "\n",
      "[LSR - Logistic Regression Results]\n",
      "Accuracy: 0.7228\n",
      "              precision    recall  f1-score   support\n",
      "\n",
      "           0       0.91      0.74      0.82      4364\n",
      "           1       0.34      0.65      0.45       907\n",
      "\n",
      "    accuracy                           0.72      5271\n",
      "   macro avg       0.62      0.69      0.63      5271\n",
      "weighted avg       0.81      0.72      0.75      5271\n",
      "\n",
      "[RF - Random Forest Results]\n",
      "Accuracy: 0.8365\n",
      "              precision    recall  f1-score   support\n",
      "\n",
      "           0       0.89      0.91      0.90      4364\n",
      "           1       0.53      0.47      0.50       907\n",
      "\n",
      "    accuracy                           0.84      5271\n",
      "   macro avg       0.71      0.69      0.70      5271\n",
      "weighted avg       0.83      0.84      0.83      5271\n",
      "\n",
      "[SVM - Support Vector Machine Results]\n",
      "Accuracy: 0.8025\n",
      "              precision    recall  f1-score   support\n",
      "\n",
      "           0       0.83      0.95      0.89      4364\n",
      "           1       0.25      0.07      0.12       907\n",
      "\n",
      "    accuracy                           0.80      5271\n",
      "   macro avg       0.54      0.51      0.50      5271\n",
      "weighted avg       0.73      0.80      0.76      5271\n",
      "\n",
      "\n",
      "============================================================\n",
      "DATASET: MEPS16\n",
      "============================================================\n",
      "\n",
      "[LSR - Logistic Regression Results]\n",
      "Accuracy: 0.7301\n",
      "              precision    recall  f1-score   support\n",
      "\n",
      "         0.0       0.91      0.75      0.82      3914\n",
      "         1.0       0.34      0.64      0.44       788\n",
      "\n",
      "    accuracy                           0.73      4702\n",
      "   macro avg       0.63      0.70      0.63      4702\n",
      "weighted avg       0.82      0.73      0.76      4702\n",
      "\n",
      "[RF - Random Forest Results]\n",
      "Accuracy: 0.8569\n",
      "              precision    recall  f1-score   support\n",
      "\n",
      "         0.0       0.88      0.96      0.92      3914\n",
      "         1.0       0.63      0.36      0.45       788\n",
      "\n",
      "    accuracy                           0.86      4702\n",
      "   macro avg       0.75      0.66      0.69      4702\n",
      "weighted avg       0.84      0.86      0.84      4702\n",
      "\n",
      "[SVM - Support Vector Machine Results]\n",
      "Accuracy: 0.8143\n",
      "              precision    recall  f1-score   support\n",
      "\n",
      "         0.0       0.83      0.97      0.90      3914\n",
      "         1.0       0.20      0.04      0.06       788\n",
      "\n",
      "    accuracy                           0.81      4702\n",
      "   macro avg       0.52      0.50      0.48      4702\n",
      "weighted avg       0.73      0.81      0.76      4702\n",
      "\n"
     ]
    }
   ],
   "source": [
    "# Loop over each dataset and train/evaluate all three classifiers\n",
    "for name, (X_train, X_test, y_train, y_test) in datasets.items():\n",
    "    train_and_evaluate_classifiers(X_train, X_test, y_train, y_test, dataset_name=name)"
   ]
  }
 ],
 "metadata": {
  "kaggle": {
   "accelerator": "gpu",
   "dataSources": [
    {
     "databundleVersionId": 860599,
     "sourceId": 9120,
     "sourceType": "competition"
    },
    {
     "datasetId": 5994317,
     "sourceId": 9783828,
     "sourceType": "datasetVersion"
    },
    {
     "datasetId": 6309984,
     "sourceId": 10209629,
     "sourceType": "datasetVersion"
    },
    {
     "datasetId": 6310265,
     "sourceId": 10210022,
     "sourceType": "datasetVersion"
    },
    {
     "datasetId": 6310590,
     "sourceId": 10210446,
     "sourceType": "datasetVersion"
    },
    {
     "datasetId": 6317009,
     "sourceId": 10218987,
     "sourceType": "datasetVersion"
    }
   ],
   "dockerImageVersionId": 30804,
   "isGpuEnabled": true,
   "isInternetEnabled": true,
   "language": "python",
   "sourceType": "notebook"
  },
  "kernelspec": {
   "display_name": "Python 3",
   "language": "python",
   "name": "python3"
  },
  "language_info": {
   "codemirror_mode": {
    "name": "ipython",
    "version": 3
   },
   "file_extension": ".py",
   "mimetype": "text/x-python",
   "name": "python",
   "nbconvert_exporter": "python",
   "pygments_lexer": "ipython3",
   "version": "3.10.14"
  },
  "papermill": {
   "default_parameters": {},
   "duration": 76.726775,
   "end_time": "2024-12-22T02:50:50.980425",
   "environment_variables": {},
   "exception": null,
   "input_path": "__notebook__.ipynb",
   "output_path": "__notebook__.ipynb",
   "parameters": {},
   "start_time": "2024-12-22T02:49:34.253650",
   "version": "2.6.0"
  }
 },
 "nbformat": 4,
 "nbformat_minor": 5
}
